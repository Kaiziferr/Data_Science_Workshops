{
 "cells": [
  {
   "cell_type": "markdown",
   "metadata": {},
   "source": [
    "# Modelos de Regresion Lineal"
   ]
  },
  {
   "cell_type": "markdown",
   "metadata": {},
   "source": [
    "#### Modelos con datos simulados y = b+wx"
   ]
  },
  {
   "cell_type": "code",
   "execution_count": 223,
   "metadata": {},
   "outputs": [],
   "source": [
    "import pandas as pd\n",
    "import numpy as np\n",
    "import matplotlib.pyplot as plt"
   ]
  },
  {
   "cell_type": "code",
   "execution_count": 224,
   "metadata": {},
   "outputs": [],
   "source": [
    "# Generar los predictores\n",
    "x = 1.5 + 2.5*np.random.randn(100)"
   ]
  },
  {
   "cell_type": "code",
   "execution_count": 225,
   "metadata": {},
   "outputs": [],
   "source": [
    "# Generar los errores\n",
    "res = 0 + 0.8*np.random.randn(100)"
   ]
  },
  {
   "cell_type": "code",
   "execution_count": 226,
   "metadata": {},
   "outputs": [],
   "source": [
    "# Generar las etiquetas predichas\n",
    "y_pred = 5 + 1.9*x"
   ]
  },
  {
   "cell_type": "code",
   "execution_count": 227,
   "metadata": {},
   "outputs": [],
   "source": [
    "# Etiquetas actuales\n",
    "y_real = 5 + 1.9*x+res"
   ]
  },
  {
   "cell_type": "code",
   "execution_count": 228,
   "metadata": {},
   "outputs": [],
   "source": [
    "X = x.tolist()\n",
    "y = y_real.tolist()\n",
    "y_predict = y_pred.tolist()"
   ]
  },
  {
   "cell_type": "code",
   "execution_count": 229,
   "metadata": {},
   "outputs": [
    {
     "data": {
      "text/html": [
       "<div>\n",
       "<style scoped>\n",
       "    .dataframe tbody tr th:only-of-type {\n",
       "        vertical-align: middle;\n",
       "    }\n",
       "\n",
       "    .dataframe tbody tr th {\n",
       "        vertical-align: top;\n",
       "    }\n",
       "\n",
       "    .dataframe thead th {\n",
       "        text-align: right;\n",
       "    }\n",
       "</style>\n",
       "<table border=\"1\" class=\"dataframe\">\n",
       "  <thead>\n",
       "    <tr style=\"text-align: right;\">\n",
       "      <th></th>\n",
       "      <th>Predictores</th>\n",
       "      <th>Etiqueta</th>\n",
       "      <th>Predicciones</th>\n",
       "    </tr>\n",
       "  </thead>\n",
       "  <tbody>\n",
       "    <tr>\n",
       "      <th>0</th>\n",
       "      <td>-2.766803</td>\n",
       "      <td>1.384034</td>\n",
       "      <td>-0.256926</td>\n",
       "    </tr>\n",
       "    <tr>\n",
       "      <th>1</th>\n",
       "      <td>0.980101</td>\n",
       "      <td>7.296881</td>\n",
       "      <td>6.862191</td>\n",
       "    </tr>\n",
       "    <tr>\n",
       "      <th>2</th>\n",
       "      <td>5.956189</td>\n",
       "      <td>16.298159</td>\n",
       "      <td>16.316760</td>\n",
       "    </tr>\n",
       "    <tr>\n",
       "      <th>3</th>\n",
       "      <td>4.048661</td>\n",
       "      <td>12.229217</td>\n",
       "      <td>12.692456</td>\n",
       "    </tr>\n",
       "    <tr>\n",
       "      <th>4</th>\n",
       "      <td>-1.060623</td>\n",
       "      <td>2.411641</td>\n",
       "      <td>2.984816</td>\n",
       "    </tr>\n",
       "  </tbody>\n",
       "</table>\n",
       "</div>"
      ],
      "text/plain": [
       "   Predictores   Etiqueta  Predicciones\n",
       "0    -2.766803   1.384034     -0.256926\n",
       "1     0.980101   7.296881      6.862191\n",
       "2     5.956189  16.298159     16.316760\n",
       "3     4.048661  12.229217     12.692456\n",
       "4    -1.060623   2.411641      2.984816"
      ]
     },
     "execution_count": 229,
     "metadata": {},
     "output_type": "execute_result"
    }
   ],
   "source": [
    "data = pd.DataFrame({\n",
    "    \"Predictores\":X,\n",
    "    \"Etiqueta\": y,\n",
    "    \"Predicciones\": y_predict\n",
    "})\n",
    "\n",
    "data.head()"
   ]
  },
  {
   "cell_type": "code",
   "execution_count": 230,
   "metadata": {},
   "outputs": [],
   "source": [
    "y_mean = [np.mean(data.Etiqueta) for i in range(1,len(data.Predictores)+1)]"
   ]
  },
  {
   "cell_type": "code",
   "execution_count": 231,
   "metadata": {},
   "outputs": [
    {
     "data": {
      "text/plain": [
       "Text(0.5, 1.0, 'Valor actual vs Predicciones')"
      ]
     },
     "execution_count": 231,
     "metadata": {},
     "output_type": "execute_result"
    },
    {
     "data": {
      "image/png": "[encoded data removed]",
      "text/plain": [
       "<Figure size 432x288 with 1 Axes>"
      ]
     },
     "metadata": {
      "needs_background": "light"
     },
     "output_type": "display_data"
    }
   ],
   "source": [
    "%matplotlib inline\n",
    "plt.plot(data.Predictores, data.Predicciones)\n",
    "plt.plot(data.Predictores, data.Etiqueta, 'ro')\n",
    "plt.plot(data.Predictores, y_mean)\n",
    "plt.title(\"Valor actual vs Predicciones\")"
   ]
  },
  {
   "cell_type": "code",
   "execution_count": 232,
   "metadata": {},
   "outputs": [],
   "source": [
    "#Investigar esto no lo comprendo bien\n",
    "data['SSR'] = (data.Predictores-np.mean(data.Etiqueta))**2\n",
    "data['SSD'] = (data.Predictores- data.Etiqueta)**2\n",
    "data['SST'] = (data.Etiqueta - np.mean(data.Etiqueta))**2\n",
    "\n",
    "SSR = sum(data.SSR)\n",
    "SSD = sum(data.SSD)\n",
    "SST = sum(data.SST)"
   ]
  },
  {
   "cell_type": "code",
   "execution_count": 233,
   "metadata": {},
   "outputs": [
    {
     "data": {
      "text/plain": [
       "(4637.224840478565, 4557.992266816035, 2607.422627674923)"
      ]
     },
     "execution_count": 233,
     "metadata": {},
     "output_type": "execute_result"
    }
   ],
   "source": [
    "SSR, SSD, SST"
   ]
  },
  {
   "cell_type": "code",
   "execution_count": 234,
   "metadata": {},
   "outputs": [
    {
     "data": {
      "text/plain": [
       "1.778470736297033"
      ]
     },
     "execution_count": 234,
     "metadata": {},
     "output_type": "execute_result"
    }
   ],
   "source": [
    "R2 = SSR/SST\n",
    "R2"
   ]
  },
  {
   "cell_type": "code",
   "execution_count": 235,
   "metadata": {},
   "outputs": [
    {
     "data": {
      "text/html": [
       "<div>\n",
       "<style scoped>\n",
       "    .dataframe tbody tr th:only-of-type {\n",
       "        vertical-align: middle;\n",
       "    }\n",
       "\n",
       "    .dataframe tbody tr th {\n",
       "        vertical-align: top;\n",
       "    }\n",
       "\n",
       "    .dataframe thead th {\n",
       "        text-align: right;\n",
       "    }\n",
       "</style>\n",
       "<table border=\"1\" class=\"dataframe\">\n",
       "  <thead>\n",
       "    <tr style=\"text-align: right;\">\n",
       "      <th></th>\n",
       "      <th>Predictores</th>\n",
       "      <th>Etiqueta</th>\n",
       "      <th>Predicciones</th>\n",
       "      <th>SSR</th>\n",
       "      <th>SSD</th>\n",
       "      <th>SST</th>\n",
       "    </tr>\n",
       "  </thead>\n",
       "  <tbody>\n",
       "    <tr>\n",
       "      <th>0</th>\n",
       "      <td>-2.766803</td>\n",
       "      <td>1.384034</td>\n",
       "      <td>-0.256926</td>\n",
       "      <td>111.375870</td>\n",
       "      <td>17.229448</td>\n",
       "      <td>40.993794</td>\n",
       "    </tr>\n",
       "    <tr>\n",
       "      <th>1</th>\n",
       "      <td>0.980101</td>\n",
       "      <td>7.296881</td>\n",
       "      <td>6.862191</td>\n",
       "      <td>46.329433</td>\n",
       "      <td>39.901720</td>\n",
       "      <td>0.239896</td>\n",
       "    </tr>\n",
       "    <tr>\n",
       "      <th>2</th>\n",
       "      <td>5.956189</td>\n",
       "      <td>16.298159</td>\n",
       "      <td>16.316760</td>\n",
       "      <td>3.350672</td>\n",
       "      <td>106.956340</td>\n",
       "      <td>72.445391</td>\n",
       "    </tr>\n",
       "    <tr>\n",
       "      <th>3</th>\n",
       "      <td>4.048661</td>\n",
       "      <td>12.229217</td>\n",
       "      <td>12.692456</td>\n",
       "      <td>13.972737</td>\n",
       "      <td>66.921499</td>\n",
       "      <td>19.736194</td>\n",
       "    </tr>\n",
       "    <tr>\n",
       "      <th>4</th>\n",
       "      <td>-1.060623</td>\n",
       "      <td>2.411641</td>\n",
       "      <td>2.984816</td>\n",
       "      <td>78.274656</td>\n",
       "      <td>12.056618</td>\n",
       "      <td>28.890973</td>\n",
       "    </tr>\n",
       "  </tbody>\n",
       "</table>\n",
       "</div>"
      ],
      "text/plain": [
       "   Predictores   Etiqueta  Predicciones         SSR         SSD        SST\n",
       "0    -2.766803   1.384034     -0.256926  111.375870   17.229448  40.993794\n",
       "1     0.980101   7.296881      6.862191   46.329433   39.901720   0.239896\n",
       "2     5.956189  16.298159     16.316760    3.350672  106.956340  72.445391\n",
       "3     4.048661  12.229217     12.692456   13.972737   66.921499  19.736194\n",
       "4    -1.060623   2.411641      2.984816   78.274656   12.056618  28.890973"
      ]
     },
     "execution_count": 235,
     "metadata": {},
     "output_type": "execute_result"
    }
   ],
   "source": [
    "data.head()"
   ]
  },
  {
   "cell_type": "code",
   "execution_count": 236,
   "metadata": {},
   "outputs": [
    {
     "data": {
      "text/plain": [
       "(array([ 1.,  9., 12., 11., 16., 20., 12., 12.,  3.,  4.]),\n",
       " array([-12.06698923, -10.89616165,  -9.72533407,  -8.55450649,\n",
       "         -7.38367892,  -6.21285134,  -5.04202376,  -3.87119618,\n",
       "         -2.70036861,  -1.52954103,  -0.35871345]),\n",
       " <a list of 10 Patch objects>)"
      ]
     },
     "execution_count": 236,
     "metadata": {},
     "output_type": "execute_result"
    },
    {
     "data": {
      "image/png": "[encoded data removed]",
      "text/plain": [
       "<Figure size 432x288 with 1 Axes>"
      ]
     },
     "metadata": {
      "needs_background": "light"
     },
     "output_type": "display_data"
    }
   ],
   "source": [
    "plt.hist(data.Predictores- data.Etiqueta)"
   ]
  },
  {
   "cell_type": "markdown",
   "metadata": {},
   "source": [
    "# Opteniendo la recta de la regresion"
   ]
  },
  {
   "cell_type": "code",
   "execution_count": 237,
   "metadata": {},
   "outputs": [
    {
     "data": {
      "text/plain": [
       "(1.517981491548015, 7.786673381440417)"
      ]
     },
     "execution_count": 237,
     "metadata": {},
     "output_type": "execute_result"
    }
   ],
   "source": [
    "X_mean = np.mean(data.Predictores)\n",
    "y_mean = np.mean(data.Etiqueta)\n",
    "X_mean, y_mean"
   ]
  },
  {
   "cell_type": "code",
   "execution_count": 238,
   "metadata": {},
   "outputs": [],
   "source": [
    "data['beta_n'] = (data.Predictores - X_mean)*(data.Etiqueta-y_mean)\n",
    "data['beta_d'] = (data.Predictores- X_mean)**2"
   ]
  },
  {
   "cell_type": "code",
   "execution_count": 239,
   "metadata": {},
   "outputs": [],
   "source": [
    "beta = sum(data.beta_n)/sum(data.beta_d)"
   ]
  },
  {
   "cell_type": "code",
   "execution_count": 240,
   "metadata": {},
   "outputs": [],
   "source": [
    "alpha = y_mean - beta*X_mean"
   ]
  },
  {
   "cell_type": "code",
   "execution_count": 241,
   "metadata": {},
   "outputs": [
    {
     "data": {
      "text/plain": [
       "(4.904793268032907, 1.898494895658189)"
      ]
     },
     "execution_count": 241,
     "metadata": {},
     "output_type": "execute_result"
    }
   ],
   "source": [
    "alpha, beta"
   ]
  },
  {
   "cell_type": "markdown",
   "metadata": {},
   "source": [
    "beta seria mi W o pendiente / alpha seria mi b o interseccion eje y"
   ]
  },
  {
   "cell_type": "code",
   "execution_count": 242,
   "metadata": {},
   "outputs": [],
   "source": [
    "data[\"y_model\"] = alpha + beta*data.Predictores"
   ]
  },
  {
   "cell_type": "code",
   "execution_count": 243,
   "metadata": {},
   "outputs": [
    {
     "data": {
      "text/html": [
       "<div>\n",
       "<style scoped>\n",
       "    .dataframe tbody tr th:only-of-type {\n",
       "        vertical-align: middle;\n",
       "    }\n",
       "\n",
       "    .dataframe tbody tr th {\n",
       "        vertical-align: top;\n",
       "    }\n",
       "\n",
       "    .dataframe thead th {\n",
       "        text-align: right;\n",
       "    }\n",
       "</style>\n",
       "<table border=\"1\" class=\"dataframe\">\n",
       "  <thead>\n",
       "    <tr style=\"text-align: right;\">\n",
       "      <th></th>\n",
       "      <th>Predictores</th>\n",
       "      <th>Etiqueta</th>\n",
       "      <th>Predicciones</th>\n",
       "      <th>SSR</th>\n",
       "      <th>SSD</th>\n",
       "      <th>SST</th>\n",
       "      <th>beta_n</th>\n",
       "      <th>beta_d</th>\n",
       "      <th>y_model</th>\n",
       "    </tr>\n",
       "  </thead>\n",
       "  <tbody>\n",
       "    <tr>\n",
       "      <th>0</th>\n",
       "      <td>-2.766803</td>\n",
       "      <td>1.384034</td>\n",
       "      <td>-0.256926</td>\n",
       "      <td>111.375870</td>\n",
       "      <td>17.229448</td>\n",
       "      <td>40.993794</td>\n",
       "      <td>27.433933</td>\n",
       "      <td>18.359381</td>\n",
       "      <td>-0.347969</td>\n",
       "    </tr>\n",
       "    <tr>\n",
       "      <th>1</th>\n",
       "      <td>0.980101</td>\n",
       "      <td>7.296881</td>\n",
       "      <td>6.862191</td>\n",
       "      <td>46.329433</td>\n",
       "      <td>39.901720</td>\n",
       "      <td>0.239896</td>\n",
       "      <td>0.263450</td>\n",
       "      <td>0.289316</td>\n",
       "      <td>6.765509</td>\n",
       "    </tr>\n",
       "    <tr>\n",
       "      <th>2</th>\n",
       "      <td>5.956189</td>\n",
       "      <td>16.298159</td>\n",
       "      <td>16.316760</td>\n",
       "      <td>3.350672</td>\n",
       "      <td>106.956340</td>\n",
       "      <td>72.445391</td>\n",
       "      <td>37.775744</td>\n",
       "      <td>19.697689</td>\n",
       "      <td>16.212588</td>\n",
       "    </tr>\n",
       "    <tr>\n",
       "      <th>3</th>\n",
       "      <td>4.048661</td>\n",
       "      <td>12.229217</td>\n",
       "      <td>12.692456</td>\n",
       "      <td>13.972737</td>\n",
       "      <td>66.921499</td>\n",
       "      <td>19.736194</td>\n",
       "      <td>11.242654</td>\n",
       "      <td>6.404338</td>\n",
       "      <td>12.591155</td>\n",
       "    </tr>\n",
       "    <tr>\n",
       "      <th>4</th>\n",
       "      <td>-1.060623</td>\n",
       "      <td>2.411641</td>\n",
       "      <td>2.984816</td>\n",
       "      <td>78.274656</td>\n",
       "      <td>12.056618</td>\n",
       "      <td>28.890973</td>\n",
       "      <td>13.860083</td>\n",
       "      <td>6.649202</td>\n",
       "      <td>2.891206</td>\n",
       "    </tr>\n",
       "  </tbody>\n",
       "</table>\n",
       "</div>"
      ],
      "text/plain": [
       "   Predictores   Etiqueta  Predicciones         SSR         SSD        SST  \\\n",
       "0    -2.766803   1.384034     -0.256926  111.375870   17.229448  40.993794   \n",
       "1     0.980101   7.296881      6.862191   46.329433   39.901720   0.239896   \n",
       "2     5.956189  16.298159     16.316760    3.350672  106.956340  72.445391   \n",
       "3     4.048661  12.229217     12.692456   13.972737   66.921499  19.736194   \n",
       "4    -1.060623   2.411641      2.984816   78.274656   12.056618  28.890973   \n",
       "\n",
       "      beta_n     beta_d    y_model  \n",
       "0  27.433933  18.359381  -0.347969  \n",
       "1   0.263450   0.289316   6.765509  \n",
       "2  37.775744  19.697689  16.212588  \n",
       "3  11.242654   6.404338  12.591155  \n",
       "4  13.860083   6.649202   2.891206  "
      ]
     },
     "execution_count": 243,
     "metadata": {},
     "output_type": "execute_result"
    }
   ],
   "source": [
    "data.head()"
   ]
  },
  {
   "cell_type": "code",
   "execution_count": 244,
   "metadata": {},
   "outputs": [
    {
     "data": {
      "text/plain": [
       "(2550.30059306634, 57.12203460858508, 2607.422627674923)"
      ]
     },
     "execution_count": 244,
     "metadata": {},
     "output_type": "execute_result"
    }
   ],
   "source": [
    "SSR = sum((data.y_model-y_mean)**2)\n",
    "SSD = sum((data.y_model-data.Etiqueta)**2)\n",
    "SST = sum((data.Etiqueta - y_mean)**2)\n",
    "\n",
    "SSR, SSD, SST"
   ]
  },
  {
   "cell_type": "code",
   "execution_count": 245,
   "metadata": {},
   "outputs": [
    {
     "data": {
      "text/plain": [
       "0.9780925293804327"
      ]
     },
     "execution_count": 245,
     "metadata": {},
     "output_type": "execute_result"
    }
   ],
   "source": [
    "R2 = SSR/SST\n",
    "R2"
   ]
  },
  {
   "cell_type": "code",
   "execution_count": 246,
   "metadata": {
    "scrolled": true
   },
   "outputs": [
    {
     "data": {
      "text/plain": [
       "Text(0.5, 1.0, 'Valor actual vs Predicciones')"
      ]
     },
     "execution_count": 246,
     "metadata": {},
     "output_type": "execute_result"
    },
    {
     "data": {
      "image/png": "[encoded data removed]",
      "text/plain": [
       "<Figure size 432x288 with 1 Axes>"
      ]
     },
     "metadata": {
      "needs_background": "light"
     },
     "output_type": "display_data"
    }
   ],
   "source": [
    "plt.plot(data.Predictores, data.Predicciones)\n",
    "plt.plot(data.Predictores, data.Etiqueta, 'ro')\n",
    "plt.plot(data.Predictores, data.y_model)\n",
    "plt.title(\"Valor actual vs Predicciones\")"
   ]
  },
  {
   "cell_type": "markdown",
   "metadata": {},
   "source": [
    "# Error standar de los residuos (RSE)"
   ]
  },
  {
   "cell_type": "markdown",
   "metadata": {},
   "source": [
    "Entre menor sea el RSE, mejor sera el modelo"
   ]
  },
  {
   "cell_type": "code",
   "execution_count": 248,
   "metadata": {},
   "outputs": [
    {
     "data": {
      "text/plain": [
       "0.7634644092354506"
      ]
     },
     "execution_count": 248,
     "metadata": {},
     "output_type": "execute_result"
    }
   ],
   "source": [
    "RSE = np.sqrt(SSD/(len(data)-2))\n",
    "RSE"
   ]
  },
  {
   "cell_type": "code",
   "execution_count": 250,
   "metadata": {},
   "outputs": [
    {
     "data": {
      "text/plain": [
       "0.09804757074505945"
      ]
     },
     "execution_count": 250,
     "metadata": {},
     "output_type": "execute_result"
    }
   ],
   "source": [
    "#Un 9% de error\n",
    "RSE / np.mean(data.Etiqueta)"
   ]
  }
 ],
 "metadata": {
  "kernelspec": {
   "display_name": "Python 3",
   "language": "python",
   "name": "python3"
  },
  "language_info": {
   "codemirror_mode": {
    "name": "ipython",
    "version": 3
   },
   "file_extension": ".py",
   "mimetype": "text/x-python",
   "name": "python",
   "nbconvert_exporter": "python",
   "pygments_lexer": "ipython3",
   "version": "3.7.3"
  }
 },
 "nbformat": 4,
 "nbformat_minor": 2
}
