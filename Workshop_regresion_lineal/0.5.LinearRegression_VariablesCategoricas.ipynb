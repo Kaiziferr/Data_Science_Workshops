{
 "cells": [
  {
   "cell_type": "code",
   "execution_count": 1,
   "metadata": {},
   "outputs": [],
   "source": [
    "import pandas as pd\n",
    "import numpy as np\n",
    "from sklearn.linear_model import LinearRegression"
   ]
  },
  {
   "cell_type": "code",
   "execution_count": 2,
   "metadata": {},
   "outputs": [
    {
     "data": {
      "text/html": [
       "<div>\n",
       "<style scoped>\n",
       "    .dataframe tbody tr th:only-of-type {\n",
       "        vertical-align: middle;\n",
       "    }\n",
       "\n",
       "    .dataframe tbody tr th {\n",
       "        vertical-align: top;\n",
       "    }\n",
       "\n",
       "    .dataframe thead th {\n",
       "        text-align: right;\n",
       "    }\n",
       "</style>\n",
       "<table border=\"1\" class=\"dataframe\">\n",
       "  <thead>\n",
       "    <tr style=\"text-align: right;\">\n",
       "      <th></th>\n",
       "      <th>Transaction ID</th>\n",
       "      <th>Age</th>\n",
       "      <th>Items</th>\n",
       "      <th>Monthly Income</th>\n",
       "      <th>Transaction Time</th>\n",
       "      <th>Record</th>\n",
       "      <th>Gender</th>\n",
       "      <th>City Tier</th>\n",
       "      <th>Total Spend</th>\n",
       "    </tr>\n",
       "  </thead>\n",
       "  <tbody>\n",
       "    <tr>\n",
       "      <th>0</th>\n",
       "      <td>TXN001</td>\n",
       "      <td>42</td>\n",
       "      <td>10</td>\n",
       "      <td>7313</td>\n",
       "      <td>627.668127</td>\n",
       "      <td>5</td>\n",
       "      <td>Female</td>\n",
       "      <td>Tier 1</td>\n",
       "      <td>4198.385084</td>\n",
       "    </tr>\n",
       "    <tr>\n",
       "      <th>1</th>\n",
       "      <td>TXN002</td>\n",
       "      <td>24</td>\n",
       "      <td>8</td>\n",
       "      <td>17747</td>\n",
       "      <td>126.904567</td>\n",
       "      <td>3</td>\n",
       "      <td>Female</td>\n",
       "      <td>Tier 2</td>\n",
       "      <td>4134.976648</td>\n",
       "    </tr>\n",
       "    <tr>\n",
       "      <th>2</th>\n",
       "      <td>TXN003</td>\n",
       "      <td>47</td>\n",
       "      <td>11</td>\n",
       "      <td>22845</td>\n",
       "      <td>873.469701</td>\n",
       "      <td>2</td>\n",
       "      <td>Male</td>\n",
       "      <td>Tier 2</td>\n",
       "      <td>5166.614455</td>\n",
       "    </tr>\n",
       "    <tr>\n",
       "      <th>3</th>\n",
       "      <td>TXN004</td>\n",
       "      <td>50</td>\n",
       "      <td>11</td>\n",
       "      <td>18552</td>\n",
       "      <td>380.219428</td>\n",
       "      <td>7</td>\n",
       "      <td>Female</td>\n",
       "      <td>Tier 1</td>\n",
       "      <td>7784.447676</td>\n",
       "    </tr>\n",
       "    <tr>\n",
       "      <th>4</th>\n",
       "      <td>TXN005</td>\n",
       "      <td>60</td>\n",
       "      <td>2</td>\n",
       "      <td>14439</td>\n",
       "      <td>403.374223</td>\n",
       "      <td>2</td>\n",
       "      <td>Female</td>\n",
       "      <td>Tier 2</td>\n",
       "      <td>3254.160485</td>\n",
       "    </tr>\n",
       "  </tbody>\n",
       "</table>\n",
       "</div>"
      ],
      "text/plain": [
       "  Transaction ID  Age    Items   Monthly Income  Transaction Time  Record  \\\n",
       "0         TXN001    42       10            7313        627.668127       5   \n",
       "1         TXN002    24        8           17747        126.904567       3   \n",
       "2         TXN003    47       11           22845        873.469701       2   \n",
       "3         TXN004    50       11           18552        380.219428       7   \n",
       "4         TXN005    60        2           14439        403.374223       2   \n",
       "\n",
       "   Gender City Tier  Total Spend  \n",
       "0  Female    Tier 1  4198.385084  \n",
       "1  Female    Tier 2  4134.976648  \n",
       "2    Male    Tier 2  5166.614455  \n",
       "3  Female    Tier 1  7784.447676  \n",
       "4  Female    Tier 2  3254.160485  "
      ]
     },
     "execution_count": 2,
     "metadata": {},
     "output_type": "execute_result"
    }
   ],
   "source": [
    "data = pd.read_csv('https://raw.githubusercontent.com/joanby/python-ml-course/master/datasets/ecom-expense/Ecom%20Expense.csv')\n",
    "data.head()"
   ]
  },
  {
   "cell_type": "code",
   "execution_count": 3,
   "metadata": {},
   "outputs": [],
   "source": [
    "dummy_gender = pd.get_dummies(data['Gender'], prefix = \"Gender\")\n",
    "dummy_city = pd.get_dummies(data['City Tier'], prefix = \"City\")"
   ]
  },
  {
   "cell_type": "code",
   "execution_count": 4,
   "metadata": {},
   "outputs": [
    {
     "data": {
      "text/html": [
       "<div>\n",
       "<style scoped>\n",
       "    .dataframe tbody tr th:only-of-type {\n",
       "        vertical-align: middle;\n",
       "    }\n",
       "\n",
       "    .dataframe tbody tr th {\n",
       "        vertical-align: top;\n",
       "    }\n",
       "\n",
       "    .dataframe thead th {\n",
       "        text-align: right;\n",
       "    }\n",
       "</style>\n",
       "<table border=\"1\" class=\"dataframe\">\n",
       "  <thead>\n",
       "    <tr style=\"text-align: right;\">\n",
       "      <th></th>\n",
       "      <th>Gender_Female</th>\n",
       "      <th>Gender_Male</th>\n",
       "    </tr>\n",
       "  </thead>\n",
       "  <tbody>\n",
       "    <tr>\n",
       "      <th>0</th>\n",
       "      <td>1</td>\n",
       "      <td>0</td>\n",
       "    </tr>\n",
       "    <tr>\n",
       "      <th>1</th>\n",
       "      <td>1</td>\n",
       "      <td>0</td>\n",
       "    </tr>\n",
       "    <tr>\n",
       "      <th>2</th>\n",
       "      <td>0</td>\n",
       "      <td>1</td>\n",
       "    </tr>\n",
       "    <tr>\n",
       "      <th>3</th>\n",
       "      <td>1</td>\n",
       "      <td>0</td>\n",
       "    </tr>\n",
       "    <tr>\n",
       "      <th>4</th>\n",
       "      <td>1</td>\n",
       "      <td>0</td>\n",
       "    </tr>\n",
       "  </tbody>\n",
       "</table>\n",
       "</div>"
      ],
      "text/plain": [
       "   Gender_Female  Gender_Male\n",
       "0              1            0\n",
       "1              1            0\n",
       "2              0            1\n",
       "3              1            0\n",
       "4              1            0"
      ]
     },
     "execution_count": 4,
     "metadata": {},
     "output_type": "execute_result"
    }
   ],
   "source": [
    "dummy_gender.head()"
   ]
  },
  {
   "cell_type": "code",
   "execution_count": 5,
   "metadata": {},
   "outputs": [
    {
     "data": {
      "text/html": [
       "<div>\n",
       "<style scoped>\n",
       "    .dataframe tbody tr th:only-of-type {\n",
       "        vertical-align: middle;\n",
       "    }\n",
       "\n",
       "    .dataframe tbody tr th {\n",
       "        vertical-align: top;\n",
       "    }\n",
       "\n",
       "    .dataframe thead th {\n",
       "        text-align: right;\n",
       "    }\n",
       "</style>\n",
       "<table border=\"1\" class=\"dataframe\">\n",
       "  <thead>\n",
       "    <tr style=\"text-align: right;\">\n",
       "      <th></th>\n",
       "      <th>City_Tier 1</th>\n",
       "      <th>City_Tier 2</th>\n",
       "      <th>City_Tier 3</th>\n",
       "    </tr>\n",
       "  </thead>\n",
       "  <tbody>\n",
       "    <tr>\n",
       "      <th>0</th>\n",
       "      <td>1</td>\n",
       "      <td>0</td>\n",
       "      <td>0</td>\n",
       "    </tr>\n",
       "    <tr>\n",
       "      <th>1</th>\n",
       "      <td>0</td>\n",
       "      <td>1</td>\n",
       "      <td>0</td>\n",
       "    </tr>\n",
       "    <tr>\n",
       "      <th>2</th>\n",
       "      <td>0</td>\n",
       "      <td>1</td>\n",
       "      <td>0</td>\n",
       "    </tr>\n",
       "    <tr>\n",
       "      <th>3</th>\n",
       "      <td>1</td>\n",
       "      <td>0</td>\n",
       "      <td>0</td>\n",
       "    </tr>\n",
       "    <tr>\n",
       "      <th>4</th>\n",
       "      <td>0</td>\n",
       "      <td>1</td>\n",
       "      <td>0</td>\n",
       "    </tr>\n",
       "  </tbody>\n",
       "</table>\n",
       "</div>"
      ],
      "text/plain": [
       "   City_Tier 1  City_Tier 2  City_Tier 3\n",
       "0            1            0            0\n",
       "1            0            1            0\n",
       "2            0            1            0\n",
       "3            1            0            0\n",
       "4            0            1            0"
      ]
     },
     "execution_count": 5,
     "metadata": {},
     "output_type": "execute_result"
    }
   ],
   "source": [
    "dummy_city.head()"
   ]
  },
  {
   "cell_type": "code",
   "execution_count": 6,
   "metadata": {},
   "outputs": [
    {
     "data": {
      "text/plain": [
       "['Transaction ID',\n",
       " 'Age ',\n",
       " ' Items ',\n",
       " 'Monthly Income',\n",
       " 'Transaction Time',\n",
       " 'Record',\n",
       " 'Gender',\n",
       " 'City Tier',\n",
       " 'Total Spend']"
      ]
     },
     "execution_count": 6,
     "metadata": {},
     "output_type": "execute_result"
    }
   ],
   "source": [
    "columns_names = data.columns.values.tolist()\n",
    "columns_names"
   ]
  },
  {
   "cell_type": "markdown",
   "metadata": {},
   "source": [
    "#### Aplicando un jon"
   ]
  },
  {
   "cell_type": "code",
   "execution_count": 7,
   "metadata": {},
   "outputs": [
    {
     "data": {
      "text/html": [
       "<div>\n",
       "<style scoped>\n",
       "    .dataframe tbody tr th:only-of-type {\n",
       "        vertical-align: middle;\n",
       "    }\n",
       "\n",
       "    .dataframe tbody tr th {\n",
       "        vertical-align: top;\n",
       "    }\n",
       "\n",
       "    .dataframe thead th {\n",
       "        text-align: right;\n",
       "    }\n",
       "</style>\n",
       "<table border=\"1\" class=\"dataframe\">\n",
       "  <thead>\n",
       "    <tr style=\"text-align: right;\">\n",
       "      <th></th>\n",
       "      <th>Transaction ID</th>\n",
       "      <th>Age</th>\n",
       "      <th>Items</th>\n",
       "      <th>Monthly Income</th>\n",
       "      <th>Transaction Time</th>\n",
       "      <th>Record</th>\n",
       "      <th>Gender</th>\n",
       "      <th>City Tier</th>\n",
       "      <th>Total Spend</th>\n",
       "      <th>Gender_Female</th>\n",
       "      <th>Gender_Male</th>\n",
       "    </tr>\n",
       "  </thead>\n",
       "  <tbody>\n",
       "    <tr>\n",
       "      <th>0</th>\n",
       "      <td>TXN001</td>\n",
       "      <td>42</td>\n",
       "      <td>10</td>\n",
       "      <td>7313</td>\n",
       "      <td>627.668127</td>\n",
       "      <td>5</td>\n",
       "      <td>Female</td>\n",
       "      <td>Tier 1</td>\n",
       "      <td>4198.385084</td>\n",
       "      <td>1</td>\n",
       "      <td>0</td>\n",
       "    </tr>\n",
       "    <tr>\n",
       "      <th>1</th>\n",
       "      <td>TXN002</td>\n",
       "      <td>24</td>\n",
       "      <td>8</td>\n",
       "      <td>17747</td>\n",
       "      <td>126.904567</td>\n",
       "      <td>3</td>\n",
       "      <td>Female</td>\n",
       "      <td>Tier 2</td>\n",
       "      <td>4134.976648</td>\n",
       "      <td>1</td>\n",
       "      <td>0</td>\n",
       "    </tr>\n",
       "    <tr>\n",
       "      <th>2</th>\n",
       "      <td>TXN003</td>\n",
       "      <td>47</td>\n",
       "      <td>11</td>\n",
       "      <td>22845</td>\n",
       "      <td>873.469701</td>\n",
       "      <td>2</td>\n",
       "      <td>Male</td>\n",
       "      <td>Tier 2</td>\n",
       "      <td>5166.614455</td>\n",
       "      <td>0</td>\n",
       "      <td>1</td>\n",
       "    </tr>\n",
       "    <tr>\n",
       "      <th>3</th>\n",
       "      <td>TXN004</td>\n",
       "      <td>50</td>\n",
       "      <td>11</td>\n",
       "      <td>18552</td>\n",
       "      <td>380.219428</td>\n",
       "      <td>7</td>\n",
       "      <td>Female</td>\n",
       "      <td>Tier 1</td>\n",
       "      <td>7784.447676</td>\n",
       "      <td>1</td>\n",
       "      <td>0</td>\n",
       "    </tr>\n",
       "    <tr>\n",
       "      <th>4</th>\n",
       "      <td>TXN005</td>\n",
       "      <td>60</td>\n",
       "      <td>2</td>\n",
       "      <td>14439</td>\n",
       "      <td>403.374223</td>\n",
       "      <td>2</td>\n",
       "      <td>Female</td>\n",
       "      <td>Tier 2</td>\n",
       "      <td>3254.160485</td>\n",
       "      <td>1</td>\n",
       "      <td>0</td>\n",
       "    </tr>\n",
       "  </tbody>\n",
       "</table>\n",
       "</div>"
      ],
      "text/plain": [
       "  Transaction ID  Age    Items   Monthly Income  Transaction Time  Record  \\\n",
       "0         TXN001    42       10            7313        627.668127       5   \n",
       "1         TXN002    24        8           17747        126.904567       3   \n",
       "2         TXN003    47       11           22845        873.469701       2   \n",
       "3         TXN004    50       11           18552        380.219428       7   \n",
       "4         TXN005    60        2           14439        403.374223       2   \n",
       "\n",
       "   Gender City Tier  Total Spend  Gender_Female  Gender_Male  \n",
       "0  Female    Tier 1  4198.385084              1            0  \n",
       "1  Female    Tier 2  4134.976648              1            0  \n",
       "2    Male    Tier 2  5166.614455              0            1  \n",
       "3  Female    Tier 1  7784.447676              1            0  \n",
       "4  Female    Tier 2  3254.160485              1            0  "
      ]
     },
     "execution_count": 7,
     "metadata": {},
     "output_type": "execute_result"
    }
   ],
   "source": [
    "data_new = data[columns_names].join(dummy_gender)\n",
    "data_new.head()"
   ]
  },
  {
   "cell_type": "code",
   "execution_count": 8,
   "metadata": {},
   "outputs": [
    {
     "data": {
      "text/plain": [
       "['Transaction ID',\n",
       " 'Age ',\n",
       " ' Items ',\n",
       " 'Monthly Income',\n",
       " 'Transaction Time',\n",
       " 'Record',\n",
       " 'Gender',\n",
       " 'City Tier',\n",
       " 'Total Spend',\n",
       " 'Gender_Female',\n",
       " 'Gender_Male']"
      ]
     },
     "execution_count": 8,
     "metadata": {},
     "output_type": "execute_result"
    }
   ],
   "source": [
    "column_names = data_new.columns.values.tolist()\n",
    "column_names"
   ]
  },
  {
   "cell_type": "code",
   "execution_count": 9,
   "metadata": {},
   "outputs": [
    {
     "data": {
      "text/html": [
       "<div>\n",
       "<style scoped>\n",
       "    .dataframe tbody tr th:only-of-type {\n",
       "        vertical-align: middle;\n",
       "    }\n",
       "\n",
       "    .dataframe tbody tr th {\n",
       "        vertical-align: top;\n",
       "    }\n",
       "\n",
       "    .dataframe thead th {\n",
       "        text-align: right;\n",
       "    }\n",
       "</style>\n",
       "<table border=\"1\" class=\"dataframe\">\n",
       "  <thead>\n",
       "    <tr style=\"text-align: right;\">\n",
       "      <th></th>\n",
       "      <th>Transaction ID</th>\n",
       "      <th>Age</th>\n",
       "      <th>Items</th>\n",
       "      <th>Monthly Income</th>\n",
       "      <th>Transaction Time</th>\n",
       "      <th>Record</th>\n",
       "      <th>Gender</th>\n",
       "      <th>City Tier</th>\n",
       "      <th>Total Spend</th>\n",
       "      <th>Gender_Female</th>\n",
       "      <th>Gender_Male</th>\n",
       "      <th>City_Tier 1</th>\n",
       "      <th>City_Tier 2</th>\n",
       "      <th>City_Tier 3</th>\n",
       "    </tr>\n",
       "  </thead>\n",
       "  <tbody>\n",
       "    <tr>\n",
       "      <th>0</th>\n",
       "      <td>TXN001</td>\n",
       "      <td>42</td>\n",
       "      <td>10</td>\n",
       "      <td>7313</td>\n",
       "      <td>627.668127</td>\n",
       "      <td>5</td>\n",
       "      <td>Female</td>\n",
       "      <td>Tier 1</td>\n",
       "      <td>4198.385084</td>\n",
       "      <td>1</td>\n",
       "      <td>0</td>\n",
       "      <td>1</td>\n",
       "      <td>0</td>\n",
       "      <td>0</td>\n",
       "    </tr>\n",
       "    <tr>\n",
       "      <th>1</th>\n",
       "      <td>TXN002</td>\n",
       "      <td>24</td>\n",
       "      <td>8</td>\n",
       "      <td>17747</td>\n",
       "      <td>126.904567</td>\n",
       "      <td>3</td>\n",
       "      <td>Female</td>\n",
       "      <td>Tier 2</td>\n",
       "      <td>4134.976648</td>\n",
       "      <td>1</td>\n",
       "      <td>0</td>\n",
       "      <td>0</td>\n",
       "      <td>1</td>\n",
       "      <td>0</td>\n",
       "    </tr>\n",
       "    <tr>\n",
       "      <th>2</th>\n",
       "      <td>TXN003</td>\n",
       "      <td>47</td>\n",
       "      <td>11</td>\n",
       "      <td>22845</td>\n",
       "      <td>873.469701</td>\n",
       "      <td>2</td>\n",
       "      <td>Male</td>\n",
       "      <td>Tier 2</td>\n",
       "      <td>5166.614455</td>\n",
       "      <td>0</td>\n",
       "      <td>1</td>\n",
       "      <td>0</td>\n",
       "      <td>1</td>\n",
       "      <td>0</td>\n",
       "    </tr>\n",
       "    <tr>\n",
       "      <th>3</th>\n",
       "      <td>TXN004</td>\n",
       "      <td>50</td>\n",
       "      <td>11</td>\n",
       "      <td>18552</td>\n",
       "      <td>380.219428</td>\n",
       "      <td>7</td>\n",
       "      <td>Female</td>\n",
       "      <td>Tier 1</td>\n",
       "      <td>7784.447676</td>\n",
       "      <td>1</td>\n",
       "      <td>0</td>\n",
       "      <td>1</td>\n",
       "      <td>0</td>\n",
       "      <td>0</td>\n",
       "    </tr>\n",
       "    <tr>\n",
       "      <th>4</th>\n",
       "      <td>TXN005</td>\n",
       "      <td>60</td>\n",
       "      <td>2</td>\n",
       "      <td>14439</td>\n",
       "      <td>403.374223</td>\n",
       "      <td>2</td>\n",
       "      <td>Female</td>\n",
       "      <td>Tier 2</td>\n",
       "      <td>3254.160485</td>\n",
       "      <td>1</td>\n",
       "      <td>0</td>\n",
       "      <td>0</td>\n",
       "      <td>1</td>\n",
       "      <td>0</td>\n",
       "    </tr>\n",
       "  </tbody>\n",
       "</table>\n",
       "</div>"
      ],
      "text/plain": [
       "  Transaction ID  Age    Items   Monthly Income  Transaction Time  Record  \\\n",
       "0         TXN001    42       10            7313        627.668127       5   \n",
       "1         TXN002    24        8           17747        126.904567       3   \n",
       "2         TXN003    47       11           22845        873.469701       2   \n",
       "3         TXN004    50       11           18552        380.219428       7   \n",
       "4         TXN005    60        2           14439        403.374223       2   \n",
       "\n",
       "   Gender City Tier  Total Spend  Gender_Female  Gender_Male  City_Tier 1  \\\n",
       "0  Female    Tier 1  4198.385084              1            0            1   \n",
       "1  Female    Tier 2  4134.976648              1            0            0   \n",
       "2    Male    Tier 2  5166.614455              0            1            0   \n",
       "3  Female    Tier 1  7784.447676              1            0            1   \n",
       "4  Female    Tier 2  3254.160485              1            0            0   \n",
       "\n",
       "   City_Tier 2  City_Tier 3  \n",
       "0            0            0  \n",
       "1            1            0  \n",
       "2            1            0  \n",
       "3            0            0  \n",
       "4            1            0  "
      ]
     },
     "execution_count": 9,
     "metadata": {},
     "output_type": "execute_result"
    }
   ],
   "source": [
    "data_new = data_new[column_names].join(dummy_city)\n",
    "data_new.head()"
   ]
  },
  {
   "cell_type": "code",
   "execution_count": 10,
   "metadata": {},
   "outputs": [],
   "source": [
    "# Estas columnas son acorde al tutorial\n",
    "feature_cols = ['Monthly Income', 'Transaction Time', 'Gender_Female', 'Gender_Male', 'City_Tier 1', 'City_Tier 2', 'City_Tier 3']"
   ]
  },
  {
   "cell_type": "code",
   "execution_count": 11,
   "metadata": {},
   "outputs": [],
   "source": [
    "X = data_new[feature_cols]\n",
    "y = data_new['Total Spend']"
   ]
  },
  {
   "cell_type": "code",
   "execution_count": 12,
   "metadata": {},
   "outputs": [
    {
     "data": {
      "text/plain": [
       "LinearRegression()"
      ]
     },
     "execution_count": 12,
     "metadata": {},
     "output_type": "execute_result"
    }
   ],
   "source": [
    "lm = LinearRegression()\n",
    "lm.fit(X,y)"
   ]
  },
  {
   "cell_type": "code",
   "execution_count": 13,
   "metadata": {},
   "outputs": [
    {
     "name": "stdout",
     "output_type": "stream",
     "text": [
      "3655.729407690653\n",
      "[   0.15297825    0.12372609  -94.15779883   94.15779883  119.6632516\n",
      "  -16.67901801 -102.9842336 ]\n"
     ]
    }
   ],
   "source": [
    "# Ordenadas\n",
    "print(lm.intercept_)\n",
    "# Coeficientes\n",
    "print(lm.coef_)"
   ]
  },
  {
   "cell_type": "code",
   "execution_count": 14,
   "metadata": {},
   "outputs": [
    {
     "data": {
      "text/plain": [
       "[('Monthly Income', 0.15297824609320518),\n",
       " ('Transaction Time', 0.12372608642620006),\n",
       " ('Gender_Female', -94.15779883032013),\n",
       " ('Gender_Male', 94.15779883032015),\n",
       " ('City_Tier 1', 119.66325160390097),\n",
       " ('City_Tier 2', -16.679018007990468),\n",
       " ('City_Tier 3', -102.98423359591051)]"
      ]
     },
     "execution_count": 14,
     "metadata": {},
     "output_type": "execute_result"
    }
   ],
   "source": [
    "list(zip(feature_cols, lm.coef_))"
   ]
  },
  {
   "cell_type": "code",
   "execution_count": 15,
   "metadata": {},
   "outputs": [
    {
     "data": {
      "text/plain": [
       "0.19478920552885381"
      ]
     },
     "execution_count": 15,
     "metadata": {},
     "output_type": "execute_result"
    }
   ],
   "source": [
    "# Modelo malito, ya que el r2 es bajo, debido a que falta informacion\n",
    "lm.score(X,y)"
   ]
  },
  {
   "cell_type": "code",
   "execution_count": 16,
   "metadata": {},
   "outputs": [],
   "source": [
    "# Añadimos record\n",
    "feature_cols = ['Monthly Income', 'Transaction Time', 'Gender_Female', 'Gender_Male', 'City_Tier 1', 'City_Tier 2', 'City_Tier 3','Record']\n",
    "X = data_new[feature_cols]\n",
    "y = data_new['Total Spend']"
   ]
  },
  {
   "cell_type": "code",
   "execution_count": 17,
   "metadata": {},
   "outputs": [
    {
     "data": {
      "text/plain": [
       "LinearRegression()"
      ]
     },
     "execution_count": 17,
     "metadata": {},
     "output_type": "execute_result"
    }
   ],
   "source": [
    "lm = LinearRegression()\n",
    "lm.fit(X,y)"
   ]
  },
  {
   "cell_type": "code",
   "execution_count": 18,
   "metadata": {},
   "outputs": [
    {
     "name": "stdout",
     "output_type": "stream",
     "text": [
      "-79.41713030137362\n"
     ]
    }
   ],
   "source": [
    "print(lm.intercept_)"
   ]
  },
  {
   "cell_type": "code",
   "execution_count": 19,
   "metadata": {},
   "outputs": [
    {
     "data": {
      "text/plain": [
       "[('Monthly Income', 0.14753898049205738),\n",
       " ('Transaction Time', 0.15494612549589545),\n",
       " ('Gender_Female', -131.02501325554567),\n",
       " ('Gender_Male', 131.0250132555456),\n",
       " ('City_Tier 1', 76.76432601049527),\n",
       " ('City_Tier 2', 55.138974309232474),\n",
       " ('City_Tier 3', -131.9033003197278),\n",
       " ('Record', 772.2334457445648)]"
      ]
     },
     "execution_count": 19,
     "metadata": {},
     "output_type": "execute_result"
    }
   ],
   "source": [
    "list(zip(feature_cols, lm.coef_))"
   ]
  },
  {
   "cell_type": "code",
   "execution_count": 20,
   "metadata": {},
   "outputs": [
    {
     "data": {
      "text/plain": [
       "0.9179923586131016"
      ]
     },
     "execution_count": 20,
     "metadata": {},
     "output_type": "execute_result"
    }
   ],
   "source": [
    "# El r2 mejoro un resto\n",
    "lm.score(X,y)"
   ]
  },
  {
   "cell_type": "markdown",
   "metadata": {},
   "source": [
    "#### Calculamos la desviacion tipica de los residuos"
   ]
  },
  {
   "cell_type": "markdown",
   "metadata": {},
   "source": [
    "- Modelo Global Total_Spend = -79.41713030137089 + 0.14753898049205738 * Monthly Income + 0.1549461254958966 * Transaction Time -131.02501325554584 * Gender_Female + 131.02501325554562 * Gender_Male + 76.76432601049518 * City_Tier 1 + 55.13897430923225 * City_Tier 2 -131.90330031972758 * City_Tier 3 + 772.2334457445643 * Record\n",
    "\n",
    "- Reales scenario\n",
    "    * Si es hombre y esta en city tier 1 =  -79.41713030137089 + 0.14753898049205738 * Monthly Income + 0.1549461254958966 * Transaction Time  + 131.02501325554562 * Gender_Male + 76.76432601049518 * City_Tier 1 + 772.2334457445643 * Record\n",
    "\n",
    "    * Si es hombre y esta en city tier 2 = \n",
    "        \n",
    "        -79.41713030137089 + 0.14753898049205738 * Monthly Income + 0.1549461254958966 * Transaction Time + 131.02501325554562 * Gender_Male  + 55.13897430923225 * City_Tier 2 + 772.2334457445643 * Record\n",
    "\n",
    "    * Si es hombre y esta en city tier 3 = -79.41713030137089 + 0.14753898049205738 * Monthly Income + 0.1549461254958966 * Transaction Time -131.02501325554584 * Gender_Female + 131.02501325554562 * Gender_Male -131.90330031972758 * City_Tier 3 + 772.2334457445643 * Record\n",
    "\n",
    "    * Si es mujer y esta en city tier 1 = -79.41713030137089 + 0.14753898049205738 * Monthly Income + 0.1549461254958966 * Transaction Time -131.02501325554584 * Gender_Female + 76.76432601049518 * City_Tier 1 + 772.2334457445643 * Record\n",
    "\n",
    "    * Si es mujer y esta en city tier 2 = -79.41713030137089 + 0.14753898049205738 * Monthly Income + 0.1549461254958966 * Transaction Time -131.02501325554584 * Gender_Female + 55.13897430923225 * City_Tier 2 + 772.2334457445643 * Record\n",
    "\n",
    "    * Si es mujer y esta en city tier 3 = -79.41713030137089 + 0.14753898049205738 * Monthly Income + 0.1549461254958966 * Transaction Time -131.02501325554584 * Gender_Female -131.90330031972758 * City_Tier 3 + 772.2334457445643 * Record\n",
    "\n",
    "   "
   ]
  },
  {
   "cell_type": "code",
   "execution_count": 21,
   "metadata": {},
   "outputs": [],
   "source": [
    "data_new['Predict'] = -79.41713030137089 + 0.14753898049205738 * data_new['Monthly Income'] + 0.1549461254958966 * data_new['Transaction Time'] -131.02501325554584 * data_new.Gender_Female + 131.02501325554562 * data_new.Gender_Male + 76.76432601049518 * data_new['City_Tier 1'] + 55.13897430923225 * data_new['City_Tier 2'] -131.90330031972758 * data_new['City_Tier 3'] + 772.2334457445643 * data_new['Record']"
   ]
  },
  {
   "cell_type": "code",
   "execution_count": 22,
   "metadata": {},
   "outputs": [
    {
     "data": {
      "text/html": [
       "<div>\n",
       "<style scoped>\n",
       "    .dataframe tbody tr th:only-of-type {\n",
       "        vertical-align: middle;\n",
       "    }\n",
       "\n",
       "    .dataframe tbody tr th {\n",
       "        vertical-align: top;\n",
       "    }\n",
       "\n",
       "    .dataframe thead th {\n",
       "        text-align: right;\n",
       "    }\n",
       "</style>\n",
       "<table border=\"1\" class=\"dataframe\">\n",
       "  <thead>\n",
       "    <tr style=\"text-align: right;\">\n",
       "      <th></th>\n",
       "      <th>Transaction ID</th>\n",
       "      <th>Age</th>\n",
       "      <th>Items</th>\n",
       "      <th>Monthly Income</th>\n",
       "      <th>Transaction Time</th>\n",
       "      <th>Record</th>\n",
       "      <th>Gender</th>\n",
       "      <th>City Tier</th>\n",
       "      <th>Total Spend</th>\n",
       "      <th>Gender_Female</th>\n",
       "      <th>Gender_Male</th>\n",
       "      <th>City_Tier 1</th>\n",
       "      <th>City_Tier 2</th>\n",
       "      <th>City_Tier 3</th>\n",
       "      <th>Predict</th>\n",
       "    </tr>\n",
       "  </thead>\n",
       "  <tbody>\n",
       "    <tr>\n",
       "      <th>0</th>\n",
       "      <td>TXN001</td>\n",
       "      <td>42</td>\n",
       "      <td>10</td>\n",
       "      <td>7313</td>\n",
       "      <td>627.668127</td>\n",
       "      <td>5</td>\n",
       "      <td>Female</td>\n",
       "      <td>Tier 1</td>\n",
       "      <td>4198.385084</td>\n",
       "      <td>1</td>\n",
       "      <td>0</td>\n",
       "      <td>1</td>\n",
       "      <td>0</td>\n",
       "      <td>0</td>\n",
       "      <td>4903.696720</td>\n",
       "    </tr>\n",
       "    <tr>\n",
       "      <th>1</th>\n",
       "      <td>TXN002</td>\n",
       "      <td>24</td>\n",
       "      <td>8</td>\n",
       "      <td>17747</td>\n",
       "      <td>126.904567</td>\n",
       "      <td>3</td>\n",
       "      <td>Female</td>\n",
       "      <td>Tier 2</td>\n",
       "      <td>4134.976648</td>\n",
       "      <td>1</td>\n",
       "      <td>0</td>\n",
       "      <td>0</td>\n",
       "      <td>1</td>\n",
       "      <td>0</td>\n",
       "      <td>4799.434826</td>\n",
       "    </tr>\n",
       "    <tr>\n",
       "      <th>2</th>\n",
       "      <td>TXN003</td>\n",
       "      <td>47</td>\n",
       "      <td>11</td>\n",
       "      <td>22845</td>\n",
       "      <td>873.469701</td>\n",
       "      <td>2</td>\n",
       "      <td>Male</td>\n",
       "      <td>Tier 2</td>\n",
       "      <td>5166.614455</td>\n",
       "      <td>0</td>\n",
       "      <td>1</td>\n",
       "      <td>0</td>\n",
       "      <td>1</td>\n",
       "      <td>0</td>\n",
       "      <td>5157.082504</td>\n",
       "    </tr>\n",
       "    <tr>\n",
       "      <th>3</th>\n",
       "      <td>TXN004</td>\n",
       "      <td>50</td>\n",
       "      <td>11</td>\n",
       "      <td>18552</td>\n",
       "      <td>380.219428</td>\n",
       "      <td>7</td>\n",
       "      <td>Female</td>\n",
       "      <td>Tier 1</td>\n",
       "      <td>7784.447676</td>\n",
       "      <td>1</td>\n",
       "      <td>0</td>\n",
       "      <td>1</td>\n",
       "      <td>0</td>\n",
       "      <td>0</td>\n",
       "      <td>8068.012996</td>\n",
       "    </tr>\n",
       "    <tr>\n",
       "      <th>4</th>\n",
       "      <td>TXN005</td>\n",
       "      <td>60</td>\n",
       "      <td>2</td>\n",
       "      <td>14439</td>\n",
       "      <td>403.374223</td>\n",
       "      <td>2</td>\n",
       "      <td>Female</td>\n",
       "      <td>Tier 2</td>\n",
       "      <td>3254.160485</td>\n",
       "      <td>1</td>\n",
       "      <td>0</td>\n",
       "      <td>0</td>\n",
       "      <td>1</td>\n",
       "      <td>0</td>\n",
       "      <td>3581.980335</td>\n",
       "    </tr>\n",
       "  </tbody>\n",
       "</table>\n",
       "</div>"
      ],
      "text/plain": [
       "  Transaction ID  Age    Items   Monthly Income  Transaction Time  Record  \\\n",
       "0         TXN001    42       10            7313        627.668127       5   \n",
       "1         TXN002    24        8           17747        126.904567       3   \n",
       "2         TXN003    47       11           22845        873.469701       2   \n",
       "3         TXN004    50       11           18552        380.219428       7   \n",
       "4         TXN005    60        2           14439        403.374223       2   \n",
       "\n",
       "   Gender City Tier  Total Spend  Gender_Female  Gender_Male  City_Tier 1  \\\n",
       "0  Female    Tier 1  4198.385084              1            0            1   \n",
       "1  Female    Tier 2  4134.976648              1            0            0   \n",
       "2    Male    Tier 2  5166.614455              0            1            0   \n",
       "3  Female    Tier 1  7784.447676              1            0            1   \n",
       "4  Female    Tier 2  3254.160485              1            0            0   \n",
       "\n",
       "   City_Tier 2  City_Tier 3      Predict  \n",
       "0            0            0  4903.696720  \n",
       "1            1            0  4799.434826  \n",
       "2            1            0  5157.082504  \n",
       "3            0            0  8068.012996  \n",
       "4            1            0  3581.980335  "
      ]
     },
     "execution_count": 22,
     "metadata": {},
     "output_type": "execute_result"
    }
   ],
   "source": [
    "data_new.head()"
   ]
  },
  {
   "cell_type": "code",
   "execution_count": 23,
   "metadata": {},
   "outputs": [
    {
     "data": {
      "text/plain": [
       "1517733985.3408167"
      ]
     },
     "execution_count": 23,
     "metadata": {},
     "output_type": "execute_result"
    }
   ],
   "source": [
    "SSD = np.sum((data_new['Predict']-data_new['Total Spend'])**2)\n",
    "SSD"
   ]
  },
  {
   "cell_type": "code",
   "execution_count": 24,
   "metadata": {},
   "outputs": [
    {
     "data": {
      "text/plain": [
       "803.1318809818166"
      ]
     },
     "execution_count": 24,
     "metadata": {},
     "output_type": "execute_result"
    }
   ],
   "source": [
    "RSE = np.sqrt(SSD/(len(data_new) - len(feature_cols)-1))\n",
    "RSE"
   ]
  },
  {
   "cell_type": "code",
   "execution_count": 25,
   "metadata": {},
   "outputs": [
    {
     "data": {
      "text/plain": [
       "6163.176415976714"
      ]
     },
     "execution_count": 25,
     "metadata": {},
     "output_type": "execute_result"
    }
   ],
   "source": [
    "sales_mean = np.mean(data_new['Total Spend'])\n",
    "sales_mean"
   ]
  },
  {
   "cell_type": "code",
   "execution_count": 26,
   "metadata": {},
   "outputs": [
    {
     "data": {
      "text/plain": [
       "0.13031135680294162"
      ]
     },
     "execution_count": 26,
     "metadata": {},
     "output_type": "execute_result"
    }
   ],
   "source": [
    "error = RSE/sales_mean\n",
    "error"
   ]
  },
  {
   "cell_type": "code",
   "execution_count": 27,
   "metadata": {},
   "outputs": [],
   "source": [
    "data_new['Predict_2'] = lm.predict(X)"
   ]
  },
  {
   "cell_type": "markdown",
   "metadata": {},
   "source": [
    "#### El tutor no divide, ni trabaja con datos de validación, seguimos el ejercicio por cuestiones academicas"
   ]
  },
  {
   "cell_type": "code",
   "execution_count": 28,
   "metadata": {},
   "outputs": [
    {
     "data": {
      "text/html": [
       "<div>\n",
       "<style scoped>\n",
       "    .dataframe tbody tr th:only-of-type {\n",
       "        vertical-align: middle;\n",
       "    }\n",
       "\n",
       "    .dataframe tbody tr th {\n",
       "        vertical-align: top;\n",
       "    }\n",
       "\n",
       "    .dataframe thead th {\n",
       "        text-align: right;\n",
       "    }\n",
       "</style>\n",
       "<table border=\"1\" class=\"dataframe\">\n",
       "  <thead>\n",
       "    <tr style=\"text-align: right;\">\n",
       "      <th></th>\n",
       "      <th>Transaction ID</th>\n",
       "      <th>Age</th>\n",
       "      <th>Items</th>\n",
       "      <th>Monthly Income</th>\n",
       "      <th>Transaction Time</th>\n",
       "      <th>Record</th>\n",
       "      <th>Gender</th>\n",
       "      <th>City Tier</th>\n",
       "      <th>Total Spend</th>\n",
       "      <th>Gender_Female</th>\n",
       "      <th>Gender_Male</th>\n",
       "      <th>City_Tier 1</th>\n",
       "      <th>City_Tier 2</th>\n",
       "      <th>City_Tier 3</th>\n",
       "      <th>Predict</th>\n",
       "      <th>Predict_2</th>\n",
       "    </tr>\n",
       "  </thead>\n",
       "  <tbody>\n",
       "    <tr>\n",
       "      <th>0</th>\n",
       "      <td>TXN001</td>\n",
       "      <td>42</td>\n",
       "      <td>10</td>\n",
       "      <td>7313</td>\n",
       "      <td>627.668127</td>\n",
       "      <td>5</td>\n",
       "      <td>Female</td>\n",
       "      <td>Tier 1</td>\n",
       "      <td>4198.385084</td>\n",
       "      <td>1</td>\n",
       "      <td>0</td>\n",
       "      <td>1</td>\n",
       "      <td>0</td>\n",
       "      <td>0</td>\n",
       "      <td>4903.696720</td>\n",
       "      <td>4903.696720</td>\n",
       "    </tr>\n",
       "    <tr>\n",
       "      <th>1</th>\n",
       "      <td>TXN002</td>\n",
       "      <td>24</td>\n",
       "      <td>8</td>\n",
       "      <td>17747</td>\n",
       "      <td>126.904567</td>\n",
       "      <td>3</td>\n",
       "      <td>Female</td>\n",
       "      <td>Tier 2</td>\n",
       "      <td>4134.976648</td>\n",
       "      <td>1</td>\n",
       "      <td>0</td>\n",
       "      <td>0</td>\n",
       "      <td>1</td>\n",
       "      <td>0</td>\n",
       "      <td>4799.434826</td>\n",
       "      <td>4799.434826</td>\n",
       "    </tr>\n",
       "    <tr>\n",
       "      <th>2</th>\n",
       "      <td>TXN003</td>\n",
       "      <td>47</td>\n",
       "      <td>11</td>\n",
       "      <td>22845</td>\n",
       "      <td>873.469701</td>\n",
       "      <td>2</td>\n",
       "      <td>Male</td>\n",
       "      <td>Tier 2</td>\n",
       "      <td>5166.614455</td>\n",
       "      <td>0</td>\n",
       "      <td>1</td>\n",
       "      <td>0</td>\n",
       "      <td>1</td>\n",
       "      <td>0</td>\n",
       "      <td>5157.082504</td>\n",
       "      <td>5157.082504</td>\n",
       "    </tr>\n",
       "    <tr>\n",
       "      <th>3</th>\n",
       "      <td>TXN004</td>\n",
       "      <td>50</td>\n",
       "      <td>11</td>\n",
       "      <td>18552</td>\n",
       "      <td>380.219428</td>\n",
       "      <td>7</td>\n",
       "      <td>Female</td>\n",
       "      <td>Tier 1</td>\n",
       "      <td>7784.447676</td>\n",
       "      <td>1</td>\n",
       "      <td>0</td>\n",
       "      <td>1</td>\n",
       "      <td>0</td>\n",
       "      <td>0</td>\n",
       "      <td>8068.012996</td>\n",
       "      <td>8068.012996</td>\n",
       "    </tr>\n",
       "    <tr>\n",
       "      <th>4</th>\n",
       "      <td>TXN005</td>\n",
       "      <td>60</td>\n",
       "      <td>2</td>\n",
       "      <td>14439</td>\n",
       "      <td>403.374223</td>\n",
       "      <td>2</td>\n",
       "      <td>Female</td>\n",
       "      <td>Tier 2</td>\n",
       "      <td>3254.160485</td>\n",
       "      <td>1</td>\n",
       "      <td>0</td>\n",
       "      <td>0</td>\n",
       "      <td>1</td>\n",
       "      <td>0</td>\n",
       "      <td>3581.980335</td>\n",
       "      <td>3581.980335</td>\n",
       "    </tr>\n",
       "  </tbody>\n",
       "</table>\n",
       "</div>"
      ],
      "text/plain": [
       "  Transaction ID  Age    Items   Monthly Income  Transaction Time  Record  \\\n",
       "0         TXN001    42       10            7313        627.668127       5   \n",
       "1         TXN002    24        8           17747        126.904567       3   \n",
       "2         TXN003    47       11           22845        873.469701       2   \n",
       "3         TXN004    50       11           18552        380.219428       7   \n",
       "4         TXN005    60        2           14439        403.374223       2   \n",
       "\n",
       "   Gender City Tier  Total Spend  Gender_Female  Gender_Male  City_Tier 1  \\\n",
       "0  Female    Tier 1  4198.385084              1            0            1   \n",
       "1  Female    Tier 2  4134.976648              1            0            0   \n",
       "2    Male    Tier 2  5166.614455              0            1            0   \n",
       "3  Female    Tier 1  7784.447676              1            0            1   \n",
       "4  Female    Tier 2  3254.160485              1            0            0   \n",
       "\n",
       "   City_Tier 2  City_Tier 3      Predict    Predict_2  \n",
       "0            0            0  4903.696720  4903.696720  \n",
       "1            1            0  4799.434826  4799.434826  \n",
       "2            1            0  5157.082504  5157.082504  \n",
       "3            0            0  8068.012996  8068.012996  \n",
       "4            1            0  3581.980335  3581.980335  "
      ]
     },
     "execution_count": 28,
     "metadata": {},
     "output_type": "execute_result"
    }
   ],
   "source": [
    "data_new.head()"
   ]
  },
  {
   "cell_type": "markdown",
   "metadata": {},
   "source": [
    "#### Enmascarando variables dummies"
   ]
  },
  {
   "cell_type": "code",
   "execution_count": 29,
   "metadata": {},
   "outputs": [],
   "source": [
    "dummy_gender = pd.get_dummies(data['Gender'], prefix = 'Gender').iloc[:,1:]\n",
    "dummy_city = pd.get_dummies(data['City Tier'], prefix = 'City').iloc[:,1:]"
   ]
  },
  {
   "cell_type": "code",
   "execution_count": 30,
   "metadata": {},
   "outputs": [],
   "source": [
    "data_new = data.join(dummy_gender)\n",
    "data_new = data_new.join(dummy_city)"
   ]
  },
  {
   "cell_type": "code",
   "execution_count": 31,
   "metadata": {},
   "outputs": [
    {
     "data": {
      "text/html": [
       "<div>\n",
       "<style scoped>\n",
       "    .dataframe tbody tr th:only-of-type {\n",
       "        vertical-align: middle;\n",
       "    }\n",
       "\n",
       "    .dataframe tbody tr th {\n",
       "        vertical-align: top;\n",
       "    }\n",
       "\n",
       "    .dataframe thead th {\n",
       "        text-align: right;\n",
       "    }\n",
       "</style>\n",
       "<table border=\"1\" class=\"dataframe\">\n",
       "  <thead>\n",
       "    <tr style=\"text-align: right;\">\n",
       "      <th></th>\n",
       "      <th>Transaction ID</th>\n",
       "      <th>Age</th>\n",
       "      <th>Items</th>\n",
       "      <th>Monthly Income</th>\n",
       "      <th>Transaction Time</th>\n",
       "      <th>Record</th>\n",
       "      <th>Gender</th>\n",
       "      <th>City Tier</th>\n",
       "      <th>Total Spend</th>\n",
       "      <th>Gender_Male</th>\n",
       "      <th>City_Tier 2</th>\n",
       "      <th>City_Tier 3</th>\n",
       "    </tr>\n",
       "  </thead>\n",
       "  <tbody>\n",
       "    <tr>\n",
       "      <th>0</th>\n",
       "      <td>TXN001</td>\n",
       "      <td>42</td>\n",
       "      <td>10</td>\n",
       "      <td>7313</td>\n",
       "      <td>627.668127</td>\n",
       "      <td>5</td>\n",
       "      <td>Female</td>\n",
       "      <td>Tier 1</td>\n",
       "      <td>4198.385084</td>\n",
       "      <td>0</td>\n",
       "      <td>0</td>\n",
       "      <td>0</td>\n",
       "    </tr>\n",
       "    <tr>\n",
       "      <th>1</th>\n",
       "      <td>TXN002</td>\n",
       "      <td>24</td>\n",
       "      <td>8</td>\n",
       "      <td>17747</td>\n",
       "      <td>126.904567</td>\n",
       "      <td>3</td>\n",
       "      <td>Female</td>\n",
       "      <td>Tier 2</td>\n",
       "      <td>4134.976648</td>\n",
       "      <td>0</td>\n",
       "      <td>1</td>\n",
       "      <td>0</td>\n",
       "    </tr>\n",
       "    <tr>\n",
       "      <th>2</th>\n",
       "      <td>TXN003</td>\n",
       "      <td>47</td>\n",
       "      <td>11</td>\n",
       "      <td>22845</td>\n",
       "      <td>873.469701</td>\n",
       "      <td>2</td>\n",
       "      <td>Male</td>\n",
       "      <td>Tier 2</td>\n",
       "      <td>5166.614455</td>\n",
       "      <td>1</td>\n",
       "      <td>1</td>\n",
       "      <td>0</td>\n",
       "    </tr>\n",
       "    <tr>\n",
       "      <th>3</th>\n",
       "      <td>TXN004</td>\n",
       "      <td>50</td>\n",
       "      <td>11</td>\n",
       "      <td>18552</td>\n",
       "      <td>380.219428</td>\n",
       "      <td>7</td>\n",
       "      <td>Female</td>\n",
       "      <td>Tier 1</td>\n",
       "      <td>7784.447676</td>\n",
       "      <td>0</td>\n",
       "      <td>0</td>\n",
       "      <td>0</td>\n",
       "    </tr>\n",
       "    <tr>\n",
       "      <th>4</th>\n",
       "      <td>TXN005</td>\n",
       "      <td>60</td>\n",
       "      <td>2</td>\n",
       "      <td>14439</td>\n",
       "      <td>403.374223</td>\n",
       "      <td>2</td>\n",
       "      <td>Female</td>\n",
       "      <td>Tier 2</td>\n",
       "      <td>3254.160485</td>\n",
       "      <td>0</td>\n",
       "      <td>1</td>\n",
       "      <td>0</td>\n",
       "    </tr>\n",
       "  </tbody>\n",
       "</table>\n",
       "</div>"
      ],
      "text/plain": [
       "  Transaction ID  Age    Items   Monthly Income  Transaction Time  Record  \\\n",
       "0         TXN001    42       10            7313        627.668127       5   \n",
       "1         TXN002    24        8           17747        126.904567       3   \n",
       "2         TXN003    47       11           22845        873.469701       2   \n",
       "3         TXN004    50       11           18552        380.219428       7   \n",
       "4         TXN005    60        2           14439        403.374223       2   \n",
       "\n",
       "   Gender City Tier  Total Spend  Gender_Male  City_Tier 2  City_Tier 3  \n",
       "0  Female    Tier 1  4198.385084            0            0            0  \n",
       "1  Female    Tier 2  4134.976648            0            1            0  \n",
       "2    Male    Tier 2  5166.614455            1            1            0  \n",
       "3  Female    Tier 1  7784.447676            0            0            0  \n",
       "4  Female    Tier 2  3254.160485            0            1            0  "
      ]
     },
     "execution_count": 31,
     "metadata": {},
     "output_type": "execute_result"
    }
   ],
   "source": [
    "data_new.head()"
   ]
  },
  {
   "cell_type": "code",
   "execution_count": 32,
   "metadata": {},
   "outputs": [],
   "source": [
    "feature_cols = ['Monthly Income', 'Transaction Time', 'Gender_Male', 'City_Tier 2', 'City_Tier 3','Record']\n",
    "#Dividir set\n",
    "X = data_new[feature_cols]\n",
    "y = data_new['Total Spend']"
   ]
  },
  {
   "cell_type": "markdown",
   "metadata": {},
   "source": [
    "#### El tutor no divide, ni trabaja con datos de validación, seguimos el ejercicio por cuestiones academicas"
   ]
  },
  {
   "cell_type": "code",
   "execution_count": 33,
   "metadata": {},
   "outputs": [
    {
     "data": {
      "text/plain": [
       "array([4903.69671986, 4799.4348257 , 5157.08250392, ..., 9050.6903581 ,\n",
       "       8220.59609399, 6814.31308959])"
      ]
     },
     "execution_count": 33,
     "metadata": {},
     "output_type": "execute_result"
    }
   ],
   "source": [
    "lm = LinearRegression()\n",
    "lm = lm.fit(X,y)\n",
    "y_predic = lm.predict(X)\n",
    "y_predic"
   ]
  },
  {
   "cell_type": "code",
   "execution_count": 34,
   "metadata": {},
   "outputs": [
    {
     "data": {
      "text/plain": [
       "0.9179923586131016"
      ]
     },
     "execution_count": 34,
     "metadata": {},
     "output_type": "execute_result"
    }
   ],
   "source": [
    "lm.score(X,y)"
   ]
  },
  {
   "cell_type": "code",
   "execution_count": 35,
   "metadata": {},
   "outputs": [
    {
     "name": "stdout",
     "output_type": "stream",
     "text": [
      "-133.67781754642056\n"
     ]
    }
   ],
   "source": [
    "print(lm.intercept_)"
   ]
  },
  {
   "cell_type": "code",
   "execution_count": 36,
   "metadata": {},
   "outputs": [
    {
     "data": {
      "text/plain": [
       "[('Monthly Income', 0.14753898049205744),\n",
       " ('Transaction Time', 0.15494612549589631),\n",
       " ('Gender_Male', 262.05002651109595),\n",
       " ('City_Tier 2', -21.62535170126296),\n",
       " ('City_Tier 3', -208.66762633022324),\n",
       " ('Record', 772.2334457445635)]"
      ]
     },
     "execution_count": 36,
     "metadata": {},
     "output_type": "execute_result"
    }
   ],
   "source": [
    "list(zip(feature_cols, lm.coef_))"
   ]
  },
  {
   "cell_type": "markdown",
   "metadata": {},
   "source": [
    "- Los coeficientes anteriores se pueden comprender de la siguiente manera:\n",
    "- La mujer que vive en city tier 2 y 3\n",
    "- El hombre que vive en city tier 1"
   ]
  },
  {
   "cell_type": "markdown",
   "metadata": {},
   "source": [
    "Coeficientes con todas las variables en el model\n",
    "* ('Monthly Income', 0.1475389804920574),\n",
    "* ('Transaction Time', 0.15494612549589393),\n",
    "* ('Gender_Female', -131.02501325554675),\n",
    "* ('Gender_Male', 131.02501325554664),\n",
    "* ('City_Tier 1', 76.764326010495),\n",
    "* ('City_Tier 2', 55.13897430923278),\n",
    "* ('City_Tier 3', -131.90330031972783),\n",
    "* ('Record', 772.2334457445645)\n",
    "\n",
    "Los cambios se reflejan\n",
    "* ('Monthly Income', 0.14753898049205744),\n",
    "* ('Transaction Time', 0.15494612549589837),\n",
    "* ('Gender_Male', 262.0500265110939),\n",
    "* ('City_Tier 2', -21.62535170126288),\n",
    "* ('City_Tier 3', -208.66762633022293),\n",
    "* ('Record', 772.2334457445637)\n",
    "\n",
    "Los cambios se reflejan en \n",
    "* Gender_Male: antes -> 131.02, despues -> 262.05 = (131.02 - (-131.02))\n",
    "* Gender_Female: antes -> -131.02, despues -> 0\n",
    "* City_Tier 1: antes ->  76.76, despues -> 0\n",
    "* City_Tier 2: antes -> 55.13, despues -> -21.62 = (55.13 - 76.76)\n",
    "* City_Tier 3: antes -> -131.90, despues -> -208.66 = (-131.90-76.76)"
   ]
  }
 ],
 "metadata": {
  "kernelspec": {
   "display_name": "Python 3",
   "language": "python",
   "name": "python3"
  },
  "language_info": {
   "codemirror_mode": {
    "name": "ipython",
    "version": 3
   },
   "file_extension": ".py",
   "mimetype": "text/x-python",
   "name": "python",
   "nbconvert_exporter": "python",
   "pygments_lexer": "ipython3",
   "version": "3.8.5"
  }
 },
 "nbformat": 4,
 "nbformat_minor": 2
}
