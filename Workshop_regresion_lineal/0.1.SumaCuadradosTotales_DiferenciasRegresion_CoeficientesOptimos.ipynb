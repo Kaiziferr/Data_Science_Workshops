{
 "cells": [
  {
   "cell_type": "markdown",
   "metadata": {},
   "source": [
    "# Modelos de Regresion Lineal"
   ]
  },
  {
   "cell_type": "markdown",
   "metadata": {},
   "source": [
    "#### Modelos con datos simulados y = b+wx"
   ]
  },
  {
   "cell_type": "code",
   "execution_count": 1,
   "metadata": {},
   "outputs": [],
   "source": [
    "import pandas as pd\n",
    "import numpy as np\n",
    "import matplotlib.pyplot as plt"
   ]
  },
  {
   "cell_type": "code",
   "execution_count": 2,
   "metadata": {},
   "outputs": [],
   "source": [
    "# Generar los predictores\n",
    "x = 1.5 + 2.5*np.random.randn(100)"
   ]
  },
  {
   "cell_type": "code",
   "execution_count": 3,
   "metadata": {},
   "outputs": [],
   "source": [
    "# Generar los errores\n",
    "res = 0 + 0.8*np.random.randn(100)"
   ]
  },
  {
   "cell_type": "code",
   "execution_count": 4,
   "metadata": {},
   "outputs": [],
   "source": [
    "# Generar las etiquetas predichas\n",
    "y_pred = 5 + 1.9*x"
   ]
  },
  {
   "cell_type": "code",
   "execution_count": 5,
   "metadata": {},
   "outputs": [],
   "source": [
    "# Etiquetas actuales\n",
    "y_real = 5 + 1.9*x+res"
   ]
  },
  {
   "cell_type": "code",
   "execution_count": 6,
   "metadata": {},
   "outputs": [],
   "source": [
    "X = x.tolist()\n",
    "y = y_real.tolist()\n",
    "y_predict = y_pred.tolist()"
   ]
  },
  {
   "cell_type": "code",
   "execution_count": 7,
   "metadata": {},
   "outputs": [
    {
     "data": {
      "text/html": [
       "<div>\n",
       "<style scoped>\n",
       "    .dataframe tbody tr th:only-of-type {\n",
       "        vertical-align: middle;\n",
       "    }\n",
       "\n",
       "    .dataframe tbody tr th {\n",
       "        vertical-align: top;\n",
       "    }\n",
       "\n",
       "    .dataframe thead th {\n",
       "        text-align: right;\n",
       "    }\n",
       "</style>\n",
       "<table border=\"1\" class=\"dataframe\">\n",
       "  <thead>\n",
       "    <tr style=\"text-align: right;\">\n",
       "      <th></th>\n",
       "      <th>Predictores</th>\n",
       "      <th>Etiqueta</th>\n",
       "      <th>Predicciones</th>\n",
       "    </tr>\n",
       "  </thead>\n",
       "  <tbody>\n",
       "    <tr>\n",
       "      <th>0</th>\n",
       "      <td>2.090533</td>\n",
       "      <td>8.699610</td>\n",
       "      <td>8.972012</td>\n",
       "    </tr>\n",
       "    <tr>\n",
       "      <th>1</th>\n",
       "      <td>0.929500</td>\n",
       "      <td>8.139539</td>\n",
       "      <td>6.766050</td>\n",
       "    </tr>\n",
       "    <tr>\n",
       "      <th>2</th>\n",
       "      <td>-2.158782</td>\n",
       "      <td>0.664083</td>\n",
       "      <td>0.898315</td>\n",
       "    </tr>\n",
       "    <tr>\n",
       "      <th>3</th>\n",
       "      <td>1.742830</td>\n",
       "      <td>9.886390</td>\n",
       "      <td>8.311378</td>\n",
       "    </tr>\n",
       "    <tr>\n",
       "      <th>4</th>\n",
       "      <td>-1.938162</td>\n",
       "      <td>0.583014</td>\n",
       "      <td>1.317493</td>\n",
       "    </tr>\n",
       "  </tbody>\n",
       "</table>\n",
       "</div>"
      ],
      "text/plain": [
       "   Predictores  Etiqueta  Predicciones\n",
       "0     2.090533  8.699610      8.972012\n",
       "1     0.929500  8.139539      6.766050\n",
       "2    -2.158782  0.664083      0.898315\n",
       "3     1.742830  9.886390      8.311378\n",
       "4    -1.938162  0.583014      1.317493"
      ]
     },
     "execution_count": 7,
     "metadata": {},
     "output_type": "execute_result"
    }
   ],
   "source": [
    "data = pd.DataFrame({\n",
    "    \"Predictores\":X,\n",
    "    \"Etiqueta\": y,\n",
    "    \"Predicciones\": y_predict\n",
    "})\n",
    "\n",
    "data.head()"
   ]
  },
  {
   "cell_type": "code",
   "execution_count": 8,
   "metadata": {},
   "outputs": [],
   "source": [
    "y_mean = [np.mean(data.Etiqueta) for i in range(1,len(data.Predictores)+1)]"
   ]
  },
  {
   "cell_type": "code",
   "execution_count": 9,
   "metadata": {},
   "outputs": [
    {
     "data": {
      "text/plain": [
       "Text(0.5, 1.0, 'Valor actual vs Predicciones')"
      ]
     },
     "execution_count": 9,
     "metadata": {},
     "output_type": "execute_result"
    },
    {
     "data": {
      "image/png": "[encoded data removed]",
      "text/plain": [
       "<Figure size 432x288 with 1 Axes>"
      ]
     },
     "metadata": {
      "needs_background": "light"
     },
     "output_type": "display_data"
    }
   ],
   "source": [
    "%matplotlib inline\n",
    "plt.plot(data.Predictores, data.Predicciones)\n",
    "plt.plot(data.Predictores, data.Etiqueta, 'ro')\n",
    "plt.plot(data.Predictores, y_mean)\n",
    "plt.title(\"Valor actual vs Predicciones\")"
   ]
  },
  {
   "cell_type": "code",
   "execution_count": 10,
   "metadata": {},
   "outputs": [],
   "source": [
    "#Investigar esto no lo comprendo bien\n",
    "data['SSR'] = (data.Predictores-np.mean(data.Etiqueta))**2\n",
    "data['SSD'] = (data.Predictores- data.Etiqueta)**2\n",
    "data['SST'] = (data.Etiqueta - np.mean(data.Etiqueta))**2\n",
    "\n",
    "SSR = sum(data.SSR)\n",
    "SSD = sum(data.SSD)\n",
    "SST = sum(data.SST)"
   ]
  },
  {
   "cell_type": "code",
   "execution_count": 11,
   "metadata": {},
   "outputs": [
    {
     "data": {
      "text/plain": [
       "(4994.9882484681675, 4889.207993799759, 2158.3360580384174)"
      ]
     },
     "execution_count": 11,
     "metadata": {},
     "output_type": "execute_result"
    }
   ],
   "source": [
    "SSR, SSD, SST"
   ]
  },
  {
   "cell_type": "code",
   "execution_count": 12,
   "metadata": {},
   "outputs": [
    {
     "data": {
      "text/plain": [
       "2.3142773479899206"
      ]
     },
     "execution_count": 12,
     "metadata": {},
     "output_type": "execute_result"
    }
   ],
   "source": [
    "R2 = SSR/SST\n",
    "R2"
   ]
  },
  {
   "cell_type": "code",
   "execution_count": 13,
   "metadata": {},
   "outputs": [
    {
     "data": {
      "text/html": [
       "<div>\n",
       "<style scoped>\n",
       "    .dataframe tbody tr th:only-of-type {\n",
       "        vertical-align: middle;\n",
       "    }\n",
       "\n",
       "    .dataframe tbody tr th {\n",
       "        vertical-align: top;\n",
       "    }\n",
       "\n",
       "    .dataframe thead th {\n",
       "        text-align: right;\n",
       "    }\n",
       "</style>\n",
       "<table border=\"1\" class=\"dataframe\">\n",
       "  <thead>\n",
       "    <tr style=\"text-align: right;\">\n",
       "      <th></th>\n",
       "      <th>Predictores</th>\n",
       "      <th>Etiqueta</th>\n",
       "      <th>Predicciones</th>\n",
       "      <th>SSR</th>\n",
       "      <th>SSD</th>\n",
       "      <th>SST</th>\n",
       "    </tr>\n",
       "  </thead>\n",
       "  <tbody>\n",
       "    <tr>\n",
       "      <th>0</th>\n",
       "      <td>2.090533</td>\n",
       "      <td>8.699610</td>\n",
       "      <td>8.972012</td>\n",
       "      <td>38.005992</td>\n",
       "      <td>43.679908</td>\n",
       "      <td>0.197294</td>\n",
       "    </tr>\n",
       "    <tr>\n",
       "      <th>1</th>\n",
       "      <td>0.929500</td>\n",
       "      <td>8.139539</td>\n",
       "      <td>6.766050</td>\n",
       "      <td>53.669292</td>\n",
       "      <td>51.984659</td>\n",
       "      <td>0.013431</td>\n",
       "    </tr>\n",
       "    <tr>\n",
       "      <th>2</th>\n",
       "      <td>-2.158782</td>\n",
       "      <td>0.664083</td>\n",
       "      <td>0.898315</td>\n",
       "      <td>108.455863</td>\n",
       "      <td>7.968566</td>\n",
       "      <td>57.628589</td>\n",
       "    </tr>\n",
       "    <tr>\n",
       "      <th>3</th>\n",
       "      <td>1.742830</td>\n",
       "      <td>9.886390</td>\n",
       "      <td>8.311378</td>\n",
       "      <td>42.413990</td>\n",
       "      <td>66.317562</td>\n",
       "      <td>2.660021</td>\n",
       "    </tr>\n",
       "    <tr>\n",
       "      <th>4</th>\n",
       "      <td>-1.938162</td>\n",
       "      <td>0.583014</td>\n",
       "      <td>1.317493</td>\n",
       "      <td>103.909370</td>\n",
       "      <td>6.356326</td>\n",
       "      <td>58.866013</td>\n",
       "    </tr>\n",
       "  </tbody>\n",
       "</table>\n",
       "</div>"
      ],
      "text/plain": [
       "   Predictores  Etiqueta  Predicciones         SSR        SSD        SST\n",
       "0     2.090533  8.699610      8.972012   38.005992  43.679908   0.197294\n",
       "1     0.929500  8.139539      6.766050   53.669292  51.984659   0.013431\n",
       "2    -2.158782  0.664083      0.898315  108.455863   7.968566  57.628589\n",
       "3     1.742830  9.886390      8.311378   42.413990  66.317562   2.660021\n",
       "4    -1.938162  0.583014      1.317493  103.909370   6.356326  58.866013"
      ]
     },
     "execution_count": 13,
     "metadata": {},
     "output_type": "execute_result"
    }
   ],
   "source": [
    "data.head()"
   ]
  },
  {
   "cell_type": "code",
   "execution_count": 14,
   "metadata": {},
   "outputs": [
    {
     "data": {
      "text/plain": [
       "(array([ 1.,  0.,  2., 11., 14., 26., 17., 18.,  6.,  5.]),\n",
       " array([-14.20329592, -12.9283331 , -11.65337028, -10.37840747,\n",
       "         -9.10344465,  -7.82848183,  -6.55351902,  -5.2785562 ,\n",
       "         -4.00359338,  -2.72863057,  -1.45366775]),\n",
       " <a list of 10 Patch objects>)"
      ]
     },
     "execution_count": 14,
     "metadata": {},
     "output_type": "execute_result"
    },
    {
     "data": {
      "image/png": "[encoded data removed]",
      "text/plain": [
       "<Figure size 432x288 with 1 Axes>"
      ]
     },
     "metadata": {
      "needs_background": "light"
     },
     "output_type": "display_data"
    }
   ],
   "source": [
    "plt.hist(data.Predictores- data.Etiqueta)"
   ]
  },
  {
   "cell_type": "markdown",
   "metadata": {},
   "source": [
    "# Opteniendo la recta de la regresion"
   ]
  },
  {
   "cell_type": "code",
   "execution_count": 15,
   "metadata": {},
   "outputs": [
    {
     "data": {
      "text/plain": [
       "(1.6368453635376958, 8.25543279001242)"
      ]
     },
     "execution_count": 15,
     "metadata": {},
     "output_type": "execute_result"
    }
   ],
   "source": [
    "X_mean = np.mean(data.Predictores)\n",
    "y_mean = np.mean(data.Etiqueta)\n",
    "X_mean, y_mean"
   ]
  },
  {
   "cell_type": "code",
   "execution_count": 16,
   "metadata": {},
   "outputs": [],
   "source": [
    "data['beta_n'] = (data.Predictores - X_mean)*(data.Etiqueta-y_mean)\n",
    "data['beta_d'] = (data.Predictores- X_mean)**2"
   ]
  },
  {
   "cell_type": "code",
   "execution_count": 17,
   "metadata": {},
   "outputs": [],
   "source": [
    "beta = sum(data.beta_n)/sum(data.beta_d)"
   ]
  },
  {
   "cell_type": "code",
   "execution_count": 18,
   "metadata": {},
   "outputs": [],
   "source": [
    "alpha = y_mean - beta*X_mean"
   ]
  },
  {
   "cell_type": "code",
   "execution_count": 19,
   "metadata": {},
   "outputs": [
    {
     "data": {
      "text/plain": [
       "(5.239565333422251, 1.8424877045636174)"
      ]
     },
     "execution_count": 19,
     "metadata": {},
     "output_type": "execute_result"
    }
   ],
   "source": [
    "alpha, beta"
   ]
  },
  {
   "cell_type": "markdown",
   "metadata": {},
   "source": [
    "beta seria mi W o pendiente / alpha seria mi b o interseccion eje y"
   ]
  },
  {
   "cell_type": "code",
   "execution_count": 20,
   "metadata": {},
   "outputs": [],
   "source": [
    "data[\"y_model\"] = alpha + beta*data.Predictores"
   ]
  },
  {
   "cell_type": "code",
   "execution_count": 21,
   "metadata": {},
   "outputs": [
    {
     "data": {
      "text/html": [
       "<div>\n",
       "<style scoped>\n",
       "    .dataframe tbody tr th:only-of-type {\n",
       "        vertical-align: middle;\n",
       "    }\n",
       "\n",
       "    .dataframe tbody tr th {\n",
       "        vertical-align: top;\n",
       "    }\n",
       "\n",
       "    .dataframe thead th {\n",
       "        text-align: right;\n",
       "    }\n",
       "</style>\n",
       "<table border=\"1\" class=\"dataframe\">\n",
       "  <thead>\n",
       "    <tr style=\"text-align: right;\">\n",
       "      <th></th>\n",
       "      <th>Predictores</th>\n",
       "      <th>Etiqueta</th>\n",
       "      <th>Predicciones</th>\n",
       "      <th>SSR</th>\n",
       "      <th>SSD</th>\n",
       "      <th>SST</th>\n",
       "      <th>beta_n</th>\n",
       "      <th>beta_d</th>\n",
       "      <th>y_model</th>\n",
       "    </tr>\n",
       "  </thead>\n",
       "  <tbody>\n",
       "    <tr>\n",
       "      <th>0</th>\n",
       "      <td>2.090533</td>\n",
       "      <td>8.699610</td>\n",
       "      <td>8.972012</td>\n",
       "      <td>38.005992</td>\n",
       "      <td>43.679908</td>\n",
       "      <td>0.197294</td>\n",
       "      <td>0.201518</td>\n",
       "      <td>0.205832</td>\n",
       "      <td>9.091346</td>\n",
       "    </tr>\n",
       "    <tr>\n",
       "      <th>1</th>\n",
       "      <td>0.929500</td>\n",
       "      <td>8.139539</td>\n",
       "      <td>6.766050</td>\n",
       "      <td>53.669292</td>\n",
       "      <td>51.984659</td>\n",
       "      <td>0.013431</td>\n",
       "      <td>0.081977</td>\n",
       "      <td>0.500338</td>\n",
       "      <td>6.952158</td>\n",
       "    </tr>\n",
       "    <tr>\n",
       "      <th>2</th>\n",
       "      <td>-2.158782</td>\n",
       "      <td>0.664083</td>\n",
       "      <td>0.898315</td>\n",
       "      <td>108.455863</td>\n",
       "      <td>7.968566</td>\n",
       "      <td>57.628589</td>\n",
       "      <td>28.813932</td>\n",
       "      <td>14.406785</td>\n",
       "      <td>1.262037</td>\n",
       "    </tr>\n",
       "    <tr>\n",
       "      <th>3</th>\n",
       "      <td>1.742830</td>\n",
       "      <td>9.886390</td>\n",
       "      <td>8.311378</td>\n",
       "      <td>42.413990</td>\n",
       "      <td>66.317562</td>\n",
       "      <td>2.660021</td>\n",
       "      <td>0.172857</td>\n",
       "      <td>0.011233</td>\n",
       "      <td>8.450709</td>\n",
       "    </tr>\n",
       "    <tr>\n",
       "      <th>4</th>\n",
       "      <td>-1.938162</td>\n",
       "      <td>0.583014</td>\n",
       "      <td>1.317493</td>\n",
       "      <td>103.909370</td>\n",
       "      <td>6.356326</td>\n",
       "      <td>58.866013</td>\n",
       "      <td>27.428952</td>\n",
       "      <td>12.780676</td>\n",
       "      <td>1.668526</td>\n",
       "    </tr>\n",
       "  </tbody>\n",
       "</table>\n",
       "</div>"
      ],
      "text/plain": [
       "   Predictores  Etiqueta  Predicciones         SSR        SSD        SST  \\\n",
       "0     2.090533  8.699610      8.972012   38.005992  43.679908   0.197294   \n",
       "1     0.929500  8.139539      6.766050   53.669292  51.984659   0.013431   \n",
       "2    -2.158782  0.664083      0.898315  108.455863   7.968566  57.628589   \n",
       "3     1.742830  9.886390      8.311378   42.413990  66.317562   2.660021   \n",
       "4    -1.938162  0.583014      1.317493  103.909370   6.356326  58.866013   \n",
       "\n",
       "      beta_n     beta_d   y_model  \n",
       "0   0.201518   0.205832  9.091346  \n",
       "1   0.081977   0.500338  6.952158  \n",
       "2  28.813932  14.406785  1.262037  \n",
       "3   0.172857   0.011233  8.450709  \n",
       "4  27.428952  12.780676  1.668526  "
      ]
     },
     "execution_count": 21,
     "metadata": {},
     "output_type": "execute_result"
    }
   ],
   "source": [
    "data.head()"
   ]
  },
  {
   "cell_type": "code",
   "execution_count": 22,
   "metadata": {},
   "outputs": [
    {
     "data": {
      "text/plain": [
       "(2085.8032339321203, 72.5328241062986, 2158.3360580384174)"
      ]
     },
     "execution_count": 22,
     "metadata": {},
     "output_type": "execute_result"
    }
   ],
   "source": [
    "SSR = sum((data.y_model-y_mean)**2)\n",
    "SSD = sum((data.y_model-data.Etiqueta)**2)\n",
    "SST = sum((data.Etiqueta - y_mean)**2)\n",
    "\n",
    "SSR, SSD, SST"
   ]
  },
  {
   "cell_type": "code",
   "execution_count": 23,
   "metadata": {},
   "outputs": [
    {
     "data": {
      "text/plain": [
       "0.9663941007536065"
      ]
     },
     "execution_count": 23,
     "metadata": {},
     "output_type": "execute_result"
    }
   ],
   "source": [
    "R2 = SSR/SST\n",
    "R2"
   ]
  },
  {
   "cell_type": "code",
   "execution_count": 24,
   "metadata": {
    "scrolled": true
   },
   "outputs": [
    {
     "data": {
      "text/plain": [
       "Text(0.5, 1.0, 'Valor actual vs Predicciones')"
      ]
     },
     "execution_count": 24,
     "metadata": {},
     "output_type": "execute_result"
    },
    {
     "data": {
      "image/png": "[encoded data removed]",
      "text/plain": [
       "<Figure size 432x288 with 1 Axes>"
      ]
     },
     "metadata": {
      "needs_background": "light"
     },
     "output_type": "display_data"
    }
   ],
   "source": [
    "plt.plot(data.Predictores, data.Predicciones)\n",
    "plt.plot(data.Predictores, data.Etiqueta, 'ro')\n",
    "plt.plot(data.Predictores, data.y_model)\n",
    "plt.title(\"Valor actual vs Predicciones\")"
   ]
  },
  {
   "cell_type": "markdown",
   "metadata": {},
   "source": [
    "# Error standar de los residuos (RSE)"
   ]
  },
  {
   "cell_type": "markdown",
   "metadata": {},
   "source": [
    "Entre menor sea el RSE, mejor sera el modelo"
   ]
  },
  {
   "cell_type": "code",
   "execution_count": 25,
   "metadata": {},
   "outputs": [
    {
     "data": {
      "text/plain": [
       "0.8603085831418497"
      ]
     },
     "execution_count": 25,
     "metadata": {},
     "output_type": "execute_result"
    }
   ],
   "source": [
    "RSE = np.sqrt(SSD/(len(data)-2))\n",
    "RSE"
   ]
  },
  {
   "cell_type": "code",
   "execution_count": 26,
   "metadata": {},
   "outputs": [
    {
     "data": {
      "text/plain": [
       "0.10421120309799715"
      ]
     },
     "execution_count": 26,
     "metadata": {},
     "output_type": "execute_result"
    }
   ],
   "source": [
    "#Un 9% de error\n",
    "RSE / np.mean(data.Etiqueta)"
   ]
  }
 ],
 "metadata": {
  "kernelspec": {
   "display_name": "Python 3",
   "language": "python",
   "name": "python3"
  },
  "language_info": {
   "codemirror_mode": {
    "name": "ipython",
    "version": 3
   },
   "file_extension": ".py",
   "mimetype": "text/x-python",
   "name": "python",
   "nbconvert_exporter": "python",
   "pygments_lexer": "ipython3",
   "version": "3.7.3"
  }
 },
 "nbformat": 4,
 "nbformat_minor": 2
}
