{
 "cells": [
  {
   "cell_type": "code",
   "execution_count": 20,
   "metadata": {},
   "outputs": [],
   "source": [
    "from sklearn.datasets import make_classification\n",
    "from sklearn.linear_model import LogisticRegression\n",
    "from sklearn.model_selection import train_test_split\n",
    "from sklearn.metrics import roc_curve\n",
    "from sklearn.metrics import roc_auc_score\n",
    "from termcolor import colored\n",
    "import matplotlib.pyplot as plt\n"
   ]
  },
  {
   "cell_type": "markdown",
   "metadata": {},
   "source": [
    "# ROC"
   ]
  },
  {
   "cell_type": "code",
   "execution_count": 21,
   "metadata": {},
   "outputs": [
    {
     "name": "stdout",
     "output_type": "stream",
     "text": [
      "\u001b[1mGenero dos clases\u001b[0m\n"
     ]
    }
   ],
   "source": [
    "print(colored('Genero dos clases' ,attrs=['bold']))\n",
    "X, y = make_classification(n_samples = 1000, n_classes = 2)"
   ]
  },
  {
   "cell_type": "code",
   "execution_count": 22,
   "metadata": {},
   "outputs": [
    {
     "name": "stdout",
     "output_type": "stream",
     "text": [
      "\u001b[1mParticiono el conjunto en datos de entrenamiento y de prueba\u001b[0m\n"
     ]
    }
   ],
   "source": [
    "print(colored('Particiono el conjunto en datos de entrenamiento y de prueba' ,attrs=['bold']))\n",
    "X_train, X_test, y_train, y_test = train_test_split(X, y, train_size=0.7)"
   ]
  },
  {
   "cell_type": "code",
   "execution_count": 23,
   "metadata": {},
   "outputs": [
    {
     "name": "stdout",
     "output_type": "stream",
     "text": [
      "\u001b[1mEntreno el modelo\u001b[0m\n"
     ]
    },
    {
     "data": {
      "text/plain": [
       "LogisticRegression(C=1.0, class_weight=None, dual=False, fit_intercept=True,\n",
       "                   intercept_scaling=1, l1_ratio=None, max_iter=100,\n",
       "                   multi_class='auto', n_jobs=None, penalty='l2',\n",
       "                   random_state=None, solver='lbfgs', tol=0.0001, verbose=0,\n",
       "                   warm_start=False)"
      ]
     },
     "execution_count": 23,
     "metadata": {},
     "output_type": "execute_result"
    }
   ],
   "source": [
    "print(colored('Entreno el modelo' ,attrs=['bold']))\n",
    "model = LogisticRegression(solver = 'lbfgs')\n",
    "model.fit(X_train, y_train)"
   ]
  },
  {
   "cell_type": "code",
   "execution_count": 24,
   "metadata": {},
   "outputs": [
    {
     "name": "stdout",
     "output_type": "stream",
     "text": [
      "\u001b[1mRealizo la predicción\u001b[0m\n"
     ]
    }
   ],
   "source": [
    "print(colored('Realizo la predicción' ,attrs=['bold']))\n",
    "y_predict = model.predict(X_test)"
   ]
  },
  {
   "cell_type": "code",
   "execution_count": 25,
   "metadata": {},
   "outputs": [],
   "source": [
    "\"\"\"\n",
    "    @Description Metodo que calcula la probabilidad de el evento\n",
    "    @param model: Modelo instanciado\n",
    "    @param X_test: Particionamiento de prueba de los predictores\n",
    "    @param y_test: Particionamiento de prueba de la clase objetivo\n",
    "    \n",
    "    @return dos valores. El primero es la probabilidad de una prueba sin habilidad de diagnostico. \n",
    "    El segundo es la prueba del modelo\n",
    "\"\"\"\n",
    "def test_skill_diagnosis(model, X_test, y_test):\n",
    "    #Calcula la probabilidad de la prueba sin habilidad de diagnostico\n",
    "    test_no_skill = [0 for _ in range(len(y_test))]\n",
    "    #Calcula la probabilidad de la prueba con habilidad de diagnostico\n",
    "    probabilidad_test_skill = model.predict_proba(X_test)\n",
    "    #Extrae la probabilidad del evento a predecir (churm)\n",
    "    probabilidad_test_skill = probabilidad_test_skill[:,1]\n",
    "    \n",
    "   \n",
    "    \n",
    "    return test_no_skill, probabilidad_test_skill\n",
    "    "
   ]
  },
  {
   "cell_type": "code",
   "execution_count": 26,
   "metadata": {},
   "outputs": [
    {
     "name": "stdout",
     "output_type": "stream",
     "text": [
      "\u001b[1mProbabilidad de las pruebas de diagnostico\u001b[0m\n"
     ]
    }
   ],
   "source": [
    "print(colored('Probabilidad de las pruebas de diagnostico' ,attrs=['bold']))\n",
    "test_no_skill, probabilidad_test_skill = test_skill_diagnosis(model, X_test, y_test)"
   ]
  },
  {
   "cell_type": "code",
   "execution_count": 27,
   "metadata": {},
   "outputs": [
    {
     "name": "stdout",
     "output_type": "stream",
     "text": [
      "\u001b[1mResumen scores\u001b[0m\n",
      "\u001b[1mNo Skill: ROC AUC=0.500\u001b[0m\n",
      "\u001b[1mModel: ROC AUC=0.946\u001b[0m\n"
     ]
    }
   ],
   "source": [
    "print(colored('Resumen scores' ,attrs=['bold']))\n",
    "print(colored('No Skill: ROC AUC=%.3f' % (roc_auc_score(y_test, test_no_skill)) ,attrs=['bold']))\n",
    "print(colored('Model: ROC AUC=%.3f' % (roc_auc_score(y_test, probabilidad_test_skill)) ,attrs=['bold']))"
   ]
  },
  {
   "cell_type": "code",
   "execution_count": 28,
   "metadata": {},
   "outputs": [
    {
     "name": "stdout",
     "output_type": "stream",
     "text": [
      "\u001b[1mEl AUC de las pruebas de diagnostico\u001b[0m\n"
     ]
    }
   ],
   "source": [
    "print(colored('El AUC de las pruebas de diagnostico' ,attrs=['bold']))\n",
    "noSkill_fp_prob, noSkill_vp_prob, _ = roc_curve(y_test, test_no_skill)\n",
    "skill_fp_prob, skill_vp_prob, _ = roc_curve(y_test, probabilidad_test_skill)"
   ]
  },
  {
   "cell_type": "code",
   "execution_count": 29,
   "metadata": {},
   "outputs": [
    {
     "data": {
      "text/plain": [
       "<matplotlib.legend.Legend at 0x25ceb5f42e8>"
      ]
     },
     "execution_count": 29,
     "metadata": {},
     "output_type": "execute_result"
    },
    {
     "data": {
      "image/png": "[encoded data removed]",
      "text/plain": [
       "<Figure size 432x288 with 1 Axes>"
      ]
     },
     "metadata": {
      "needs_background": "light"
     },
     "output_type": "display_data"
    }
   ],
   "source": [
    "plt.plot(noSkill_fp_prob, noSkill_vp_prob, linestyle='--', label='No Skill')\n",
    "plt.plot(skill_fp_prob, skill_vp_prob, marker='.', label='Logistic')\n",
    "plt.xlabel('False Positive Rate')\n",
    "plt.ylabel('True Positive Rate')\n",
    "plt.legend()"
   ]
  },
  {
   "cell_type": "markdown",
   "metadata": {},
   "source": [
    "# Curvas de recuperación"
   ]
  },
  {
   "cell_type": "code",
   "execution_count": 30,
   "metadata": {},
   "outputs": [],
   "source": [
    "from sklearn.metrics import precision_recall_curve\n",
    "from sklearn.metrics import f1_score\n",
    "from sklearn.metrics import auc"
   ]
  },
  {
   "cell_type": "code",
   "execution_count": 31,
   "metadata": {},
   "outputs": [
    {
     "name": "stdout",
     "output_type": "stream",
     "text": [
      "\u001b[1mGenero dos clases\u001b[0m\n"
     ]
    }
   ],
   "source": [
    "print(colored('Genero dos clases' ,attrs=['bold']))\n",
    "X_, y_ = make_classification(n_samples = 2000, n_classes = 2)"
   ]
  },
  {
   "cell_type": "code",
   "execution_count": 32,
   "metadata": {},
   "outputs": [
    {
     "name": "stdout",
     "output_type": "stream",
     "text": [
      "\u001b[1mParticiono el conjunto en datos de entrenamiento y de prueba\u001b[0m\n"
     ]
    }
   ],
   "source": [
    "print(colored('Particiono el conjunto en datos de entrenamiento y de prueba' ,attrs=['bold']))\n",
    "trainX,testX,trainy,testy = train_test_split(X_,y_,test_size = 0.5)"
   ]
  },
  {
   "cell_type": "code",
   "execution_count": 33,
   "metadata": {},
   "outputs": [
    {
     "name": "stdout",
     "output_type": "stream",
     "text": [
      "\u001b[1mInstancio y entreno el modelo\u001b[0m\n"
     ]
    },
    {
     "data": {
      "text/plain": [
       "LogisticRegression(C=1.0, class_weight=None, dual=False, fit_intercept=True,\n",
       "                   intercept_scaling=1, l1_ratio=None, max_iter=100,\n",
       "                   multi_class='auto', n_jobs=None, penalty='l2',\n",
       "                   random_state=None, solver='lbfgs', tol=0.0001, verbose=0,\n",
       "                   warm_start=False)"
      ]
     },
     "execution_count": 33,
     "metadata": {},
     "output_type": "execute_result"
    }
   ],
   "source": [
    "print(colored('Instancio y entreno el modelo' ,attrs=['bold']))\n",
    "model = LogisticRegression(solver='lbfgs')\n",
    "model.fit(trainX,trainy)"
   ]
  },
  {
   "cell_type": "code",
   "execution_count": 34,
   "metadata": {},
   "outputs": [
    {
     "name": "stdout",
     "output_type": "stream",
     "text": [
      "\u001b[1mPredigo probabilidades\u001b[0m\n",
      "\u001b[1mmantener las probabilidades para el resultado positivo solamente\u001b[0m\n"
     ]
    }
   ],
   "source": [
    "print(colored('Predigo probabilidades' ,attrs=['bold']))\n",
    "probs = model.predict_proba(testX)\n",
    "print(colored('mantener las probabilidades para el resultado positivo solamente' ,attrs=['bold']))\n",
    "probs = probs[:,1]"
   ]
  },
  {
   "cell_type": "code",
   "execution_count": 35,
   "metadata": {},
   "outputs": [
    {
     "name": "stdout",
     "output_type": "stream",
     "text": [
      "\u001b[1mPredicción del modelo\u001b[0m\n"
     ]
    }
   ],
   "source": [
    "print(colored('Predicción del modelo' ,attrs=['bold']))\n",
    "y_predic = model.predict(testX)"
   ]
  },
  {
   "cell_type": "code",
   "execution_count": 36,
   "metadata": {},
   "outputs": [
    {
     "name": "stdout",
     "output_type": "stream",
     "text": [
      "\u001b[1mCurva de precisión y recuperación\u001b[0m\n",
      "\u001b[1mf1-score\u001b[0m\n",
      "\u001b[1mAUC\u001b[0m\n"
     ]
    }
   ],
   "source": [
    "print(colored('Curva de precisión y recuperación' ,attrs=['bold']))\n",
    "precision, recall, _ = precision_recall_curve(testy,probs)\n",
    "print(colored('f1-score' ,attrs=['bold']))\n",
    "f1_score = f1_score(testy,y_predic)\n",
    "print(colored('AUC' ,attrs=['bold']))\n",
    "auc_score = auc(recall,precision)"
   ]
  },
  {
   "cell_type": "code",
   "execution_count": 37,
   "metadata": {},
   "outputs": [
    {
     "name": "stdout",
     "output_type": "stream",
     "text": [
      "\u001b[1mResumen\u001b[0m\n",
      "\u001b[1mLogistic: f1=0.830 auc=0.913\u001b[0m\n"
     ]
    }
   ],
   "source": [
    "print(colored('Resumen' ,attrs=['bold']))\n",
    "print(colored('Logistic: f1=%.3f auc=%.3f' %(f1_score,auc_score) ,attrs=['bold']))"
   ]
  },
  {
   "cell_type": "code",
   "execution_count": 38,
   "metadata": {
    "scrolled": true
   },
   "outputs": [
    {
     "data": {
      "text/plain": [
       "<matplotlib.legend.Legend at 0x25ceb6608d0>"
      ]
     },
     "execution_count": 38,
     "metadata": {},
     "output_type": "execute_result"
    },
    {
     "data": {
      "image/png": "[encoded data removed]",
      "text/plain": [
       "<Figure size 432x288 with 1 Axes>"
      ]
     },
     "metadata": {
      "needs_background": "light"
     },
     "output_type": "display_data"
    }
   ],
   "source": [
    "no_skill = len(testy[testy==1])/len(testy)\n",
    "plt.plot([0,1],[no_skill,no_skill],linestyle='--', label='No skill')\n",
    "plt.plot(recall,precision,marker='.',label='Logistic')\n",
    "# axis labels\n",
    "plt.xlabel('Recall')\n",
    "plt.ylabel('Precision')\n",
    "# show the legend\n",
    "plt.legend()"
   ]
  },
  {
   "cell_type": "markdown",
   "metadata": {},
   "source": [
    "- https://machinelearningmastery.com/roc-curves-and-precision-recall-curves-for-classification-in-python/\n",
    "- **Jason Brownlee**"
   ]
  }
 ],
 "metadata": {
  "kernelspec": {
   "display_name": "Python 3",
   "language": "python",
   "name": "python3"
  },
  "language_info": {
   "codemirror_mode": {
    "name": "ipython",
    "version": 3
   },
   "file_extension": ".py",
   "mimetype": "text/x-python",
   "name": "python",
   "nbconvert_exporter": "python",
   "pygments_lexer": "ipython3",
   "version": "3.7.3"
  }
 },
 "nbformat": 4,
 "nbformat_minor": 2
}
